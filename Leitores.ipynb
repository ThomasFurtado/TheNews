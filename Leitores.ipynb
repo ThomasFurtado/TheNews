{
 "cells": [
  {
   "cell_type": "markdown",
   "id": "8b26c51c",
   "metadata": {},
   "source": [
    "# The News"
   ]
  },
  {
   "cell_type": "markdown",
   "id": "6f0d57ec",
   "metadata": {},
   "source": [
    "**Esse é um banco de dados referentes aos leitores da plataforma de notícias \"The News\" do período de 2021 à 2022.\n",
    "Há 1000 leitores nesse banco de dados. Vale lembrar que os leitores mencionados nesse dataset são fictícios. \n",
    "Os dados vão nos permitir enxergar o padrão de comportamento dos leitores, o meio pelo qual conheceram o \"the news\" e como a plataforma de notícias pode melhorar para um melhor plano de ação.**\n",
    "\n"
   ]
  },
  {
   "cell_type": "code",
   "execution_count": 45,
   "id": "6c6a8a97",
   "metadata": {},
   "outputs": [],
   "source": [
    "import pandas as pd\n",
    "from matplotlib import pyplot as plt\n",
    "import seaborn as sns\n",
    "import plotly.express as px\n",
    "import numpy as np"
   ]
  },
  {
   "cell_type": "code",
   "execution_count": 46,
   "id": "be2f797f",
   "metadata": {},
   "outputs": [],
   "source": [
    "df = pd.read_json('DataSetTheNews.json')"
   ]
  },
  {
   "cell_type": "markdown",
   "id": "54ce4879",
   "metadata": {},
   "source": [
    "### Visão geral do dataset:"
   ]
  },
  {
   "cell_type": "code",
   "execution_count": 77,
   "id": "4539d803",
   "metadata": {
    "scrolled": true
   },
   "outputs": [
    {
     "data": {
      "text/html": [
       "<div>\n",
       "<style scoped>\n",
       "    .dataframe tbody tr th:only-of-type {\n",
       "        vertical-align: middle;\n",
       "    }\n",
       "\n",
       "    .dataframe tbody tr th {\n",
       "        vertical-align: top;\n",
       "    }\n",
       "\n",
       "    .dataframe thead th {\n",
       "        text-align: right;\n",
       "    }\n",
       "</style>\n",
       "<table border=\"1\" class=\"dataframe\">\n",
       "  <thead>\n",
       "    <tr style=\"text-align: right;\">\n",
       "      <th></th>\n",
       "      <th>first_name</th>\n",
       "      <th>last_name</th>\n",
       "      <th>email</th>\n",
       "      <th>Entry Date</th>\n",
       "      <th>Last Opened</th>\n",
       "      <th>Open Rate</th>\n",
       "      <th>Newsletter</th>\n",
       "      <th>Entry Channel</th>\n",
       "      <th>LastOpened_bf_Entry</th>\n",
       "    </tr>\n",
       "  </thead>\n",
       "  <tbody>\n",
       "    <tr>\n",
       "      <th>0</th>\n",
       "      <td>Chaddy</td>\n",
       "      <td>Smithe</td>\n",
       "      <td>csmithe0@census.gov</td>\n",
       "      <td>2022-01-24</td>\n",
       "      <td>2021-09-23</td>\n",
       "      <td>0.88</td>\n",
       "      <td>the news</td>\n",
       "      <td>GoogleAds</td>\n",
       "      <td>True</td>\n",
       "    </tr>\n",
       "    <tr>\n",
       "      <th>1</th>\n",
       "      <td>Shir</td>\n",
       "      <td>Halloran</td>\n",
       "      <td>shalloran1@narod.ru</td>\n",
       "      <td>2021-10-07</td>\n",
       "      <td>2022-02-01</td>\n",
       "      <td>0.02</td>\n",
       "      <td>the bizness</td>\n",
       "      <td>Referral</td>\n",
       "      <td>False</td>\n",
       "    </tr>\n",
       "    <tr>\n",
       "      <th>2</th>\n",
       "      <td>Gusti</td>\n",
       "      <td>Schwanden</td>\n",
       "      <td>gschwanden2@feedburner.com</td>\n",
       "      <td>2022-01-05</td>\n",
       "      <td>2021-04-08</td>\n",
       "      <td>0.81</td>\n",
       "      <td>the champs</td>\n",
       "      <td>Referral</td>\n",
       "      <td>True</td>\n",
       "    </tr>\n",
       "    <tr>\n",
       "      <th>3</th>\n",
       "      <td>Ted</td>\n",
       "      <td>Kettles</td>\n",
       "      <td>tkettles3@noaa.gov</td>\n",
       "      <td>2022-05-15</td>\n",
       "      <td>2022-03-15</td>\n",
       "      <td>0.20</td>\n",
       "      <td>the bizness</td>\n",
       "      <td>Referral</td>\n",
       "      <td>True</td>\n",
       "    </tr>\n",
       "    <tr>\n",
       "      <th>4</th>\n",
       "      <td>Virginia</td>\n",
       "      <td>Glencorse</td>\n",
       "      <td>vglencorse4@redcross.org</td>\n",
       "      <td>2022-06-26</td>\n",
       "      <td>2022-02-22</td>\n",
       "      <td>0.99</td>\n",
       "      <td>the news</td>\n",
       "      <td>Referral</td>\n",
       "      <td>True</td>\n",
       "    </tr>\n",
       "  </tbody>\n",
       "</table>\n",
       "</div>"
      ],
      "text/plain": [
       "  first_name  last_name                       email Entry Date Last Opened  \\\n",
       "0     Chaddy     Smithe         csmithe0@census.gov 2022-01-24  2021-09-23   \n",
       "1       Shir   Halloran         shalloran1@narod.ru 2021-10-07  2022-02-01   \n",
       "2      Gusti  Schwanden  gschwanden2@feedburner.com 2022-01-05  2021-04-08   \n",
       "3        Ted    Kettles          tkettles3@noaa.gov 2022-05-15  2022-03-15   \n",
       "4   Virginia  Glencorse    vglencorse4@redcross.org 2022-06-26  2022-02-22   \n",
       "\n",
       "   Open Rate   Newsletter Entry Channel  LastOpened_bf_Entry  \n",
       "0       0.88     the news     GoogleAds                 True  \n",
       "1       0.02  the bizness      Referral                False  \n",
       "2       0.81   the champs      Referral                 True  \n",
       "3       0.20  the bizness      Referral                 True  \n",
       "4       0.99     the news      Referral                 True  "
      ]
     },
     "execution_count": 77,
     "metadata": {},
     "output_type": "execute_result"
    }
   ],
   "source": [
    "df.head()"
   ]
  },
  {
   "cell_type": "code",
   "execution_count": 48,
   "id": "095506dc",
   "metadata": {},
   "outputs": [
    {
     "data": {
      "text/plain": [
       "array(['GoogleAds', 'Referral', 'Organic', None, 'Insta', 'Influencer',\n",
       "       'Facebook'], dtype=object)"
      ]
     },
     "execution_count": 48,
     "metadata": {},
     "output_type": "execute_result"
    }
   ],
   "source": [
    "df['Entry Channel'].unique()"
   ]
  },
  {
   "cell_type": "code",
   "execution_count": 49,
   "id": "f808a4b4",
   "metadata": {
    "scrolled": true
   },
   "outputs": [
    {
     "data": {
      "text/plain": [
       "array(['the news', 'the bizness', 'the champs', None, 'the stories'],\n",
       "      dtype=object)"
      ]
     },
     "execution_count": 49,
     "metadata": {},
     "output_type": "execute_result"
    }
   ],
   "source": [
    "df['Newsletter'].unique()"
   ]
  },
  {
   "cell_type": "markdown",
   "id": "31ef4a74",
   "metadata": {},
   "source": [
    "- Canais de Aquisição: GoogleAds | Referral | Organic | Instagram | Influencer | Facebook\n",
    "- Canais de notícias: the news | the biziness | the champs | the stories"
   ]
  },
  {
   "cell_type": "code",
   "execution_count": 50,
   "id": "bf4fe2da",
   "metadata": {},
   "outputs": [
    {
     "data": {
      "text/plain": [
       "count    939.000000\n",
       "mean       0.503078\n",
       "std        0.281961\n",
       "min        0.010000\n",
       "25%        0.270000\n",
       "50%        0.500000\n",
       "75%        0.740000\n",
       "max        1.000000\n",
       "Name: Open Rate, dtype: float64"
      ]
     },
     "execution_count": 50,
     "metadata": {},
     "output_type": "execute_result"
    }
   ],
   "source": [
    "df['Open Rate'].describe()"
   ]
  },
  {
   "cell_type": "markdown",
   "id": "60488f0e",
   "metadata": {},
   "source": [
    "- frequência média dos leitores: 50%"
   ]
  },
  {
   "cell_type": "markdown",
   "id": "6cc54746",
   "metadata": {},
   "source": [
    "### Preparação de dados:"
   ]
  },
  {
   "cell_type": "code",
   "execution_count": 51,
   "id": "b3e41800",
   "metadata": {},
   "outputs": [
    {
     "name": "stdout",
     "output_type": "stream",
     "text": [
      "<class 'pandas.core.frame.DataFrame'>\n",
      "RangeIndex: 1000 entries, 0 to 999\n",
      "Data columns (total 8 columns):\n",
      " #   Column         Non-Null Count  Dtype  \n",
      "---  ------         --------------  -----  \n",
      " 0   first_name     973 non-null    object \n",
      " 1   last_name      939 non-null    object \n",
      " 2   email          973 non-null    object \n",
      " 3   Entry Date     939 non-null    object \n",
      " 4   Last Opened    939 non-null    object \n",
      " 5   Open Rate      939 non-null    float64\n",
      " 6   Newsletter     939 non-null    object \n",
      " 7   Entry Channel  939 non-null    object \n",
      "dtypes: float64(1), object(7)\n",
      "memory usage: 62.6+ KB\n"
     ]
    }
   ],
   "source": [
    "df.info()"
   ]
  },
  {
   "cell_type": "code",
   "execution_count": 78,
   "id": "90ba5568",
   "metadata": {
    "scrolled": true
   },
   "outputs": [],
   "source": [
    "df['Entry Date'] = pd.to_datetime(df['Entry Date'])\n",
    "df['Last Opened'] = pd.to_datetime(df['Last Opened'])"
   ]
  },
  {
   "cell_type": "code",
   "execution_count": 53,
   "id": "8b1d1267",
   "metadata": {
    "scrolled": true
   },
   "outputs": [
    {
     "name": "stdout",
     "output_type": "stream",
     "text": [
      "<class 'pandas.core.frame.DataFrame'>\n",
      "RangeIndex: 1000 entries, 0 to 999\n",
      "Data columns (total 8 columns):\n",
      " #   Column         Non-Null Count  Dtype         \n",
      "---  ------         --------------  -----         \n",
      " 0   first_name     973 non-null    object        \n",
      " 1   last_name      939 non-null    object        \n",
      " 2   email          973 non-null    object        \n",
      " 3   Entry Date     939 non-null    datetime64[ns]\n",
      " 4   Last Opened    939 non-null    datetime64[ns]\n",
      " 5   Open Rate      939 non-null    float64       \n",
      " 6   Newsletter     939 non-null    object        \n",
      " 7   Entry Channel  939 non-null    object        \n",
      "dtypes: datetime64[ns](2), float64(1), object(5)\n",
      "memory usage: 62.6+ KB\n"
     ]
    }
   ],
   "source": [
    "df.info()"
   ]
  },
  {
   "cell_type": "markdown",
   "id": "39c84513",
   "metadata": {},
   "source": [
    "### Missing Data:"
   ]
  },
  {
   "cell_type": "code",
   "execution_count": 54,
   "id": "d5a20e50",
   "metadata": {},
   "outputs": [],
   "source": [
    "df['Open Rate'].fillna(value=df['Open Rate'].median(), inplace=True)"
   ]
  },
  {
   "cell_type": "code",
   "execution_count": 55,
   "id": "eecbc832",
   "metadata": {},
   "outputs": [],
   "source": [
    "df.dropna(inplace=True)"
   ]
  },
  {
   "cell_type": "code",
   "execution_count": 56,
   "id": "eab15adb",
   "metadata": {},
   "outputs": [
    {
     "data": {
      "text/plain": [
       "first_name       0\n",
       "last_name        0\n",
       "email            0\n",
       "Entry Date       0\n",
       "Last Opened      0\n",
       "Open Rate        0\n",
       "Newsletter       0\n",
       "Entry Channel    0\n",
       "dtype: int64"
      ]
     },
     "execution_count": 56,
     "metadata": {},
     "output_type": "execute_result"
    }
   ],
   "source": [
    "df.isnull().sum()"
   ]
  },
  {
   "cell_type": "markdown",
   "id": "dafab47f",
   "metadata": {},
   "source": [
    "### Insights importantes:"
   ]
  },
  {
   "cell_type": "code",
   "execution_count": 57,
   "id": "3b9d0aa6",
   "metadata": {},
   "outputs": [
    {
     "data": {
      "text/plain": [
       "Text(0, 0.5, 'Open Rate')"
      ]
     },
     "execution_count": 57,
     "metadata": {},
     "output_type": "execute_result"
    },
    {
     "data": {
      "image/png": "[encoded data removed]",
      "text/plain": [
       "<Figure size 1080x576 with 1 Axes>"
      ]
     },
     "metadata": {
      "needs_background": "light"
     },
     "output_type": "display_data"
    }
   ],
   "source": [
    "# Entry Date no ano de 2021\n",
    "plt.figure(figsize=(15,8))\n",
    "df21 = df.loc[(df['Entry Date'] >= '2021-01-01') & (df['Entry Date'] > '2022-01-01')]\n",
    "df21.groupby(df21['Entry Date'].dt.month)[\"Open Rate\"].mean().plot.bar()\n",
    "plt.title('Open Rate X month')\n",
    "plt.xlabel('Entry Date')\n",
    "plt.ylabel('Open Rate')"
   ]
  },
  {
   "cell_type": "code",
   "execution_count": 58,
   "id": "092613f4",
   "metadata": {},
   "outputs": [
    {
     "data": {
      "text/plain": [
       "Text(0, 0.5, 'Open Rate')"
      ]
     },
     "execution_count": 58,
     "metadata": {},
     "output_type": "execute_result"
    },
    {
     "data": {
      "image/png": "[encoded data removed]",
      "text/plain": [
       "<Figure size 1080x576 with 1 Axes>"
      ]
     },
     "metadata": {
      "needs_background": "light"
     },
     "output_type": "display_data"
    }
   ],
   "source": [
    "# Entry Date no ano de 2022\n",
    "plt.figure(figsize=(15,8))\n",
    "df22 = df.loc[(df['Entry Date'] >= '2022-01-01') & (df['Entry Date'] <= '2022-06-30')]\n",
    "df22.groupby(df22['Entry Date'].dt.month)[\"Open Rate\"].mean().plot.bar()\n",
    "plt.title('Open Rate X month')\n",
    "plt.xlabel('Entry Date')\n",
    "plt.ylabel('Open Rate')"
   ]
  },
  {
   "cell_type": "markdown",
   "id": "f5a3180e",
   "metadata": {},
   "source": [
    "- Percebe-se que, baseado nos dados acima, a taxa de abertura dos emails tem pouca variância entre 0.4 e 0.6 tendo seu maior desempenho no final de 2021"
   ]
  },
  {
   "cell_type": "code",
   "execution_count": 59,
   "id": "e4070971",
   "metadata": {},
   "outputs": [
    {
     "data": {
      "text/plain": [
       "Text(0, 0.5, 'Open Rate')"
      ]
     },
     "execution_count": 59,
     "metadata": {},
     "output_type": "execute_result"
    },
    {
     "data": {
      "image/png": "[encoded data removed]",
      "text/plain": [
       "<Figure size 864x432 with 1 Axes>"
      ]
     },
     "metadata": {
      "needs_background": "light"
     },
     "output_type": "display_data"
    }
   ],
   "source": [
    "# Last opened no ano de 2021\n",
    "plt.figure(figsize=(12,6))\n",
    "dfLO21 = df.loc[(df['Last Opened'] >= '2021-01-01') & (df['Last Opened'] >= '2022-01-01')]\n",
    "dfLO21.groupby(dfLO21['Entry Date'].dt.month)[\"Open Rate\"].mean().plot.bar()\n",
    "plt.title('Open Rate X month')\n",
    "plt.xlabel('Last Opened')\n",
    "plt.ylabel('Open Rate')"
   ]
  },
  {
   "cell_type": "code",
   "execution_count": 60,
   "id": "df8c04bf",
   "metadata": {},
   "outputs": [
    {
     "data": {
      "text/plain": [
       "Text(0, 0.5, 'Open Rate')"
      ]
     },
     "execution_count": 60,
     "metadata": {},
     "output_type": "execute_result"
    },
    {
     "data": {
      "image/png": "[encoded data removed]",
      "text/plain": [
       "<Figure size 864x432 with 1 Axes>"
      ]
     },
     "metadata": {
      "needs_background": "light"
     },
     "output_type": "display_data"
    }
   ],
   "source": [
    "# Last opened no ano de 2022\n",
    "plt.figure(figsize=(12,6))\n",
    "dfLO22 = df.loc[(df['Last Opened'] >= '2022-01-01') & (df['Last Opened'] <= '2022-06-30')]\n",
    "dfLO22.groupby(dfLO22['Last Opened'].dt.month)[\"Open Rate\"].mean().plot.bar()\n",
    "plt.title('Open Rate X month')\n",
    "plt.xlabel('Last Opened')\n",
    "plt.ylabel('Open Rate')"
   ]
  },
  {
   "cell_type": "markdown",
   "id": "5245d824",
   "metadata": {},
   "source": [
    "- Maior taxa de abertura com base na ultima vez que os leitores viram as _news_ foi mais recente, em junho, o que indica um crescimento na retenção."
   ]
  },
  {
   "cell_type": "code",
   "execution_count": 61,
   "id": "21f5e590",
   "metadata": {},
   "outputs": [
    {
     "data": {
      "text/plain": [
       "True     0.523497\n",
       "False    0.476503\n",
       "Name: LastOpened_bf_Entry, dtype: float64"
      ]
     },
     "execution_count": 61,
     "metadata": {},
     "output_type": "execute_result"
    }
   ],
   "source": [
    "#Casos em que o leitor abriu pela última vez antes da data de entrada\n",
    "df['LastOpened_bf_Entry'] = df['Last Opened'] < df['Entry Date']\n",
    "df['LastOpened_bf_Entry'].value_counts(normalize=True)"
   ]
  },
  {
   "cell_type": "markdown",
   "id": "c680b6f6",
   "metadata": {},
   "source": [
    "- De acordo com os dados acima, aproximadamente 52% dos leitores viram as notícias antes de se inscrever, e não chegaram a ver depois que as _news_ começaram a chegar diariamente. "
   ]
  },
  {
   "cell_type": "code",
   "execution_count": 62,
   "id": "785cebfc",
   "metadata": {},
   "outputs": [
    {
     "data": {
      "text/plain": [
       "(52, 9)"
      ]
     },
     "execution_count": 62,
     "metadata": {},
     "output_type": "execute_result"
    }
   ],
   "source": [
    "df[(df['Last Opened'] >='2022-06-01') & (df['Last Opened'] <= '2022-06-30')].shape"
   ]
  },
  {
   "cell_type": "markdown",
   "id": "731b978f",
   "metadata": {},
   "source": [
    "- Dos 1000 leitores, somente 52 abriram as noticias no mês de junho, somente 5,20% do total de possíveis leitores."
   ]
  },
  {
   "cell_type": "code",
   "execution_count": 63,
   "id": "78968e18",
   "metadata": {},
   "outputs": [
    {
     "data": {
      "text/plain": [
       "(22, 9)"
      ]
     },
     "execution_count": 63,
     "metadata": {},
     "output_type": "execute_result"
    }
   ],
   "source": [
    "df[(df['Last Opened'] >='2022-06-01') & (df['Last Opened'] <= '2022-06-30') & (df['Entry Date'] <= '2022-01-01')].shape"
   ]
  },
  {
   "cell_type": "markdown",
   "id": "b99b5ab5",
   "metadata": {},
   "source": [
    "- Dos 52 leitores que abriram em junho, 22 se inscreveram em 2021, o que mostra uma taxa de retenção de menos de 43% no período de 6 meses."
   ]
  },
  {
   "cell_type": "code",
   "execution_count": 64,
   "id": "ad2a160b",
   "metadata": {},
   "outputs": [
    {
     "data": {
      "text/plain": [
       "Text(0, 0.5, 'Open Rate')"
      ]
     },
     "execution_count": 64,
     "metadata": {},
     "output_type": "execute_result"
    },
    {
     "data": {
      "image/png": "[encoded data removed]",
      "text/plain": [
       "<Figure size 864x432 with 1 Axes>"
      ]
     },
     "metadata": {
      "needs_background": "light"
     },
     "output_type": "display_data"
    }
   ],
   "source": [
    "#Abriram em junho, porém se inscreveram em 2021, analisando a retenção de leitores.\n",
    "plt.figure(figsize=(12,6))\n",
    "dfLOjun = df.loc[(df['Last Opened'] >= '2022-06-01') & (df['Last Opened'] <= '2022-06-30') & (df['Entry Date'] <= '2022-01-01')]\n",
    "dfLOjun.groupby(dfLOjun['Entry Date'].dt.month)[\"Open Rate\"].mean().plot.bar()\n",
    "plt.title('Entry Date x Open Rate')\n",
    "plt.xlabel('Entry Date')\n",
    "plt.ylabel('Open Rate')"
   ]
  },
  {
   "cell_type": "markdown",
   "id": "56e0a0c6",
   "metadata": {},
   "source": [
    "- Observando os dados, encontramos leitores com a entrada em julho de 2021 e que abriram as _news_ em junho de 2022 consequentemente com uma taxa alta de abertura\n",
    "- Alguns meses que também se destacam de lá pra cá são maio, setembro e novembro\n",
    "- Também percebe-se que muitos leitores se inscreveram, passaram muito tempo inativos, e recentemente voltaram a abrir as _news_"
   ]
  },
  {
   "cell_type": "markdown",
   "id": "60411fb9",
   "metadata": {},
   "source": [
    "### Canais de entrada:"
   ]
  },
  {
   "cell_type": "code",
   "execution_count": 65,
   "id": "b90581ef",
   "metadata": {},
   "outputs": [
    {
     "data": {
      "text/plain": [
       "Facebook      166\n",
       "Referral      158\n",
       "GoogleAds     155\n",
       "Influencer    153\n",
       "Organic       152\n",
       "Insta         131\n",
       "Name: Entry Channel, dtype: int64"
      ]
     },
     "execution_count": 65,
     "metadata": {},
     "output_type": "execute_result"
    }
   ],
   "source": [
    "df['Entry Channel'].value_counts()"
   ]
  },
  {
   "cell_type": "code",
   "execution_count": 66,
   "id": "c5b45694",
   "metadata": {
    "scrolled": false
   },
   "outputs": [
    {
     "data": {
      "application/vnd.plotly.v1+json": {
       "config": {
        "plotlyServerURL": "https://plot.ly"
       },
       "data": [
        {
         "domain": {
          "x": [
           0,
           1
          ],
          "y": [
           0,
           1
          ]
         },
         "hovertemplate": "label=%{label}<br>value=%{value}<extra></extra>",
         "labels": [
          "Facebook",
          "Referral",
          "GoogleAds",
          "Influencer",
          "Organic",
          "Insta"
         ],
         "legendgroup": "",
         "name": "",
         "showlegend": true,
         "type": "pie",
         "values": [
          166,
          158,
          155,
          153,
          152,
          131
         ]
        }
       ],
       "layout": {
        "legend": {
         "tracegroupgap": 0
        },
        "template": {
         "data": {
          "bar": [
           {
            "error_x": {
             "color": "#2a3f5f"
            },
            "error_y": {
             "color": "#2a3f5f"
            },
            "marker": {
             "line": {
              "color": "#E5ECF6",
              "width": 0.5
             },
             "pattern": {
              "fillmode": "overlay",
              "size": 10,
              "solidity": 0.2
             }
            },
            "type": "bar"
           }
          ],
          "barpolar": [
           {
            "marker": {
             "line": {
              "color": "#E5ECF6",
              "width": 0.5
             },
             "pattern": {
              "fillmode": "overlay",
              "size": 10,
              "solidity": 0.2
             }
            },
            "type": "barpolar"
           }
          ],
          "carpet": [
           {
            "aaxis": {
             "endlinecolor": "#2a3f5f",
             "gridcolor": "white",
             "linecolor": "white",
             "minorgridcolor": "white",
             "startlinecolor": "#2a3f5f"
            },
            "baxis": {
             "endlinecolor": "#2a3f5f",
             "gridcolor": "white",
             "linecolor": "white",
             "minorgridcolor": "white",
             "startlinecolor": "#2a3f5f"
            },
            "type": "carpet"
           }
          ],
          "choropleth": [
           {
            "colorbar": {
             "outlinewidth": 0,
             "ticks": ""
            },
            "type": "choropleth"
           }
          ],
          "contour": [
           {
            "colorbar": {
             "outlinewidth": 0,
             "ticks": ""
            },
            "colorscale": [
             [
              0,
              "#0d0887"
             ],
             [
              0.1111111111111111,
              "#46039f"
             ],
             [
              0.2222222222222222,
              "#7201a8"
             ],
             [
              0.3333333333333333,
              "#9c179e"
             ],
             [
              0.4444444444444444,
              "#bd3786"
             ],
             [
              0.5555555555555556,
              "#d8576b"
             ],
             [
              0.6666666666666666,
              "#ed7953"
             ],
             [
              0.7777777777777778,
              "#fb9f3a"
             ],
             [
              0.8888888888888888,
              "#fdca26"
             ],
             [
              1,
              "#f0f921"
             ]
            ],
            "type": "contour"
           }
          ],
          "contourcarpet": [
           {
            "colorbar": {
             "outlinewidth": 0,
             "ticks": ""
            },
            "type": "contourcarpet"
           }
          ],
          "heatmap": [
           {
            "colorbar": {
             "outlinewidth": 0,
             "ticks": ""
            },
            "colorscale": [
             [
              0,
              "#0d0887"
             ],
             [
              0.1111111111111111,
              "#46039f"
             ],
             [
              0.2222222222222222,
              "#7201a8"
             ],
             [
              0.3333333333333333,
              "#9c179e"
             ],
             [
              0.4444444444444444,
              "#bd3786"
             ],
             [
              0.5555555555555556,
              "#d8576b"
             ],
             [
              0.6666666666666666,
              "#ed7953"
             ],
             [
              0.7777777777777778,
              "#fb9f3a"
             ],
             [
              0.8888888888888888,
              "#fdca26"
             ],
             [
              1,
              "#f0f921"
             ]
            ],
            "type": "heatmap"
           }
          ],
          "heatmapgl": [
           {
            "colorbar": {
             "outlinewidth": 0,
             "ticks": ""
            },
            "colorscale": [
             [
              0,
              "#0d0887"
             ],
             [
              0.1111111111111111,
              "#46039f"
             ],
             [
              0.2222222222222222,
              "#7201a8"
             ],
             [
              0.3333333333333333,
              "#9c179e"
             ],
             [
              0.4444444444444444,
              "#bd3786"
             ],
             [
              0.5555555555555556,
              "#d8576b"
             ],
             [
              0.6666666666666666,
              "#ed7953"
             ],
             [
              0.7777777777777778,
              "#fb9f3a"
             ],
             [
              0.8888888888888888,
              "#fdca26"
             ],
             [
              1,
              "#f0f921"
             ]
            ],
            "type": "heatmapgl"
           }
          ],
          "histogram": [
           {
            "marker": {
             "pattern": {
              "fillmode": "overlay",
              "size": 10,
              "solidity": 0.2
             }
            },
            "type": "histogram"
           }
          ],
          "histogram2d": [
           {
            "colorbar": {
             "outlinewidth": 0,
             "ticks": ""
            },
            "colorscale": [
             [
              0,
              "#0d0887"
             ],
             [
              0.1111111111111111,
              "#46039f"
             ],
             [
              0.2222222222222222,
              "#7201a8"
             ],
             [
              0.3333333333333333,
              "#9c179e"
             ],
             [
              0.4444444444444444,
              "#bd3786"
             ],
             [
              0.5555555555555556,
              "#d8576b"
             ],
             [
              0.6666666666666666,
              "#ed7953"
             ],
             [
              0.7777777777777778,
              "#fb9f3a"
             ],
             [
              0.8888888888888888,
              "#fdca26"
             ],
             [
              1,
              "#f0f921"
             ]
            ],
            "type": "histogram2d"
           }
          ],
          "histogram2dcontour": [
           {
            "colorbar": {
             "outlinewidth": 0,
             "ticks": ""
            },
            "colorscale": [
             [
              0,
              "#0d0887"
             ],
             [
              0.1111111111111111,
              "#46039f"
             ],
             [
              0.2222222222222222,
              "#7201a8"
             ],
             [
              0.3333333333333333,
              "#9c179e"
             ],
             [
              0.4444444444444444,
              "#bd3786"
             ],
             [
              0.5555555555555556,
              "#d8576b"
             ],
             [
              0.6666666666666666,
              "#ed7953"
             ],
             [
              0.7777777777777778,
              "#fb9f3a"
             ],
             [
              0.8888888888888888,
              "#fdca26"
             ],
             [
              1,
              "#f0f921"
             ]
            ],
            "type": "histogram2dcontour"
           }
          ],
          "mesh3d": [
           {
            "colorbar": {
             "outlinewidth": 0,
             "ticks": ""
            },
            "type": "mesh3d"
           }
          ],
          "parcoords": [
           {
            "line": {
             "colorbar": {
              "outlinewidth": 0,
              "ticks": ""
             }
            },
            "type": "parcoords"
           }
          ],
          "pie": [
           {
            "automargin": true,
            "type": "pie"
           }
          ],
          "scatter": [
           {
            "marker": {
             "colorbar": {
              "outlinewidth": 0,
              "ticks": ""
             }
            },
            "type": "scatter"
           }
          ],
          "scatter3d": [
           {
            "line": {
             "colorbar": {
              "outlinewidth": 0,
              "ticks": ""
             }
            },
            "marker": {
             "colorbar": {
              "outlinewidth": 0,
              "ticks": ""
             }
            },
            "type": "scatter3d"
           }
          ],
          "scattercarpet": [
           {
            "marker": {
             "colorbar": {
              "outlinewidth": 0,
              "ticks": ""
             }
            },
            "type": "scattercarpet"
           }
          ],
          "scattergeo": [
           {
            "marker": {
             "colorbar": {
              "outlinewidth": 0,
              "ticks": ""
             }
            },
            "type": "scattergeo"
           }
          ],
          "scattergl": [
           {
            "marker": {
             "colorbar": {
              "outlinewidth": 0,
              "ticks": ""
             }
            },
            "type": "scattergl"
           }
          ],
          "scattermapbox": [
           {
            "marker": {
             "colorbar": {
              "outlinewidth": 0,
              "ticks": ""
             }
            },
            "type": "scattermapbox"
           }
          ],
          "scatterpolar": [
           {
            "marker": {
             "colorbar": {
              "outlinewidth": 0,
              "ticks": ""
             }
            },
            "type": "scatterpolar"
           }
          ],
          "scatterpolargl": [
           {
            "marker": {
             "colorbar": {
              "outlinewidth": 0,
              "ticks": ""
             }
            },
            "type": "scatterpolargl"
           }
          ],
          "scatterternary": [
           {
            "marker": {
             "colorbar": {
              "outlinewidth": 0,
              "ticks": ""
             }
            },
            "type": "scatterternary"
           }
          ],
          "surface": [
           {
            "colorbar": {
             "outlinewidth": 0,
             "ticks": ""
            },
            "colorscale": [
             [
              0,
              "#0d0887"
             ],
             [
              0.1111111111111111,
              "#46039f"
             ],
             [
              0.2222222222222222,
              "#7201a8"
             ],
             [
              0.3333333333333333,
              "#9c179e"
             ],
             [
              0.4444444444444444,
              "#bd3786"
             ],
             [
              0.5555555555555556,
              "#d8576b"
             ],
             [
              0.6666666666666666,
              "#ed7953"
             ],
             [
              0.7777777777777778,
              "#fb9f3a"
             ],
             [
              0.8888888888888888,
              "#fdca26"
             ],
             [
              1,
              "#f0f921"
             ]
            ],
            "type": "surface"
           }
          ],
          "table": [
           {
            "cells": {
             "fill": {
              "color": "#EBF0F8"
             },
             "line": {
              "color": "white"
             }
            },
            "header": {
             "fill": {
              "color": "#C8D4E3"
             },
             "line": {
              "color": "white"
             }
            },
            "type": "table"
           }
          ]
         },
         "layout": {
          "annotationdefaults": {
           "arrowcolor": "#2a3f5f",
           "arrowhead": 0,
           "arrowwidth": 1
          },
          "autotypenumbers": "strict",
          "coloraxis": {
           "colorbar": {
            "outlinewidth": 0,
            "ticks": ""
           }
          },
          "colorscale": {
           "diverging": [
            [
             0,
             "#8e0152"
            ],
            [
             0.1,
             "#c51b7d"
            ],
            [
             0.2,
             "#de77ae"
            ],
            [
             0.3,
             "#f1b6da"
            ],
            [
             0.4,
             "#fde0ef"
            ],
            [
             0.5,
             "#f7f7f7"
            ],
            [
             0.6,
             "#e6f5d0"
            ],
            [
             0.7,
             "#b8e186"
            ],
            [
             0.8,
             "#7fbc41"
            ],
            [
             0.9,
             "#4d9221"
            ],
            [
             1,
             "#276419"
            ]
           ],
           "sequential": [
            [
             0,
             "#0d0887"
            ],
            [
             0.1111111111111111,
             "#46039f"
            ],
            [
             0.2222222222222222,
             "#7201a8"
            ],
            [
             0.3333333333333333,
             "#9c179e"
            ],
            [
             0.4444444444444444,
             "#bd3786"
            ],
            [
             0.5555555555555556,
             "#d8576b"
            ],
            [
             0.6666666666666666,
             "#ed7953"
            ],
            [
             0.7777777777777778,
             "#fb9f3a"
            ],
            [
             0.8888888888888888,
             "#fdca26"
            ],
            [
             1,
             "#f0f921"
            ]
           ],
           "sequentialminus": [
            [
             0,
             "#0d0887"
            ],
            [
             0.1111111111111111,
             "#46039f"
            ],
            [
             0.2222222222222222,
             "#7201a8"
            ],
            [
             0.3333333333333333,
             "#9c179e"
            ],
            [
             0.4444444444444444,
             "#bd3786"
            ],
            [
             0.5555555555555556,
             "#d8576b"
            ],
            [
             0.6666666666666666,
             "#ed7953"
            ],
            [
             0.7777777777777778,
             "#fb9f3a"
            ],
            [
             0.8888888888888888,
             "#fdca26"
            ],
            [
             1,
             "#f0f921"
            ]
           ]
          },
          "colorway": [
           "#636efa",
           "#EF553B",
           "#00cc96",
           "#ab63fa",
           "#FFA15A",
           "#19d3f3",
           "#FF6692",
           "#B6E880",
           "#FF97FF",
           "#FECB52"
          ],
          "font": {
           "color": "#2a3f5f"
          },
          "geo": {
           "bgcolor": "white",
           "lakecolor": "white",
           "landcolor": "#E5ECF6",
           "showlakes": true,
           "showland": true,
           "subunitcolor": "white"
          },
          "hoverlabel": {
           "align": "left"
          },
          "hovermode": "closest",
          "mapbox": {
           "style": "light"
          },
          "paper_bgcolor": "white",
          "plot_bgcolor": "#E5ECF6",
          "polar": {
           "angularaxis": {
            "gridcolor": "white",
            "linecolor": "white",
            "ticks": ""
           },
           "bgcolor": "#E5ECF6",
           "radialaxis": {
            "gridcolor": "white",
            "linecolor": "white",
            "ticks": ""
           }
          },
          "scene": {
           "xaxis": {
            "backgroundcolor": "#E5ECF6",
            "gridcolor": "white",
            "gridwidth": 2,
            "linecolor": "white",
            "showbackground": true,
            "ticks": "",
            "zerolinecolor": "white"
           },
           "yaxis": {
            "backgroundcolor": "#E5ECF6",
            "gridcolor": "white",
            "gridwidth": 2,
            "linecolor": "white",
            "showbackground": true,
            "ticks": "",
            "zerolinecolor": "white"
           },
           "zaxis": {
            "backgroundcolor": "#E5ECF6",
            "gridcolor": "white",
            "gridwidth": 2,
            "linecolor": "white",
            "showbackground": true,
            "ticks": "",
            "zerolinecolor": "white"
           }
          },
          "shapedefaults": {
           "line": {
            "color": "#2a3f5f"
           }
          },
          "ternary": {
           "aaxis": {
            "gridcolor": "white",
            "linecolor": "white",
            "ticks": ""
           },
           "baxis": {
            "gridcolor": "white",
            "linecolor": "white",
            "ticks": ""
           },
           "bgcolor": "#E5ECF6",
           "caxis": {
            "gridcolor": "white",
            "linecolor": "white",
            "ticks": ""
           }
          },
          "title": {
           "x": 0.05
          },
          "xaxis": {
           "automargin": true,
           "gridcolor": "white",
           "linecolor": "white",
           "ticks": "",
           "title": {
            "standoff": 15
           },
           "zerolinecolor": "white",
           "zerolinewidth": 2
          },
          "yaxis": {
           "automargin": true,
           "gridcolor": "white",
           "linecolor": "white",
           "ticks": "",
           "title": {
            "standoff": 15
           },
           "zerolinecolor": "white",
           "zerolinewidth": 2
          }
         }
        },
        "title": {
         "text": "Canais de entrada"
        }
       }
      },
      "text/html": [
       "<div>                            <div id=\"4134481e-fe1d-4c72-a068-b96c32c6ae60\" class=\"plotly-graph-div\" style=\"height:525px; width:100%;\"></div>            <script type=\"text/javascript\">                require([\"plotly\"], function(Plotly) {                    window.PLOTLYENV=window.PLOTLYENV || {};                                    if (document.getElementById(\"4134481e-fe1d-4c72-a068-b96c32c6ae60\")) {                    Plotly.newPlot(                        \"4134481e-fe1d-4c72-a068-b96c32c6ae60\",                        [{\"domain\":{\"x\":[0.0,1.0],\"y\":[0.0,1.0]},\"hovertemplate\":\"label=%{label}<br>value=%{value}<extra></extra>\",\"labels\":[\"Facebook\",\"Referral\",\"GoogleAds\",\"Influencer\",\"Organic\",\"Insta\"],\"legendgroup\":\"\",\"name\":\"\",\"showlegend\":true,\"values\":[166,158,155,153,152,131],\"type\":\"pie\"}],                        {\"template\":{\"data\":{\"bar\":[{\"error_x\":{\"color\":\"#2a3f5f\"},\"error_y\":{\"color\":\"#2a3f5f\"},\"marker\":{\"line\":{\"color\":\"#E5ECF6\",\"width\":0.5},\"pattern\":{\"fillmode\":\"overlay\",\"size\":10,\"solidity\":0.2}},\"type\":\"bar\"}],\"barpolar\":[{\"marker\":{\"line\":{\"color\":\"#E5ECF6\",\"width\":0.5},\"pattern\":{\"fillmode\":\"overlay\",\"size\":10,\"solidity\":0.2}},\"type\":\"barpolar\"}],\"carpet\":[{\"aaxis\":{\"endlinecolor\":\"#2a3f5f\",\"gridcolor\":\"white\",\"linecolor\":\"white\",\"minorgridcolor\":\"white\",\"startlinecolor\":\"#2a3f5f\"},\"baxis\":{\"endlinecolor\":\"#2a3f5f\",\"gridcolor\":\"white\",\"linecolor\":\"white\",\"minorgridcolor\":\"white\",\"startlinecolor\":\"#2a3f5f\"},\"type\":\"carpet\"}],\"choropleth\":[{\"colorbar\":{\"outlinewidth\":0,\"ticks\":\"\"},\"type\":\"choropleth\"}],\"contour\":[{\"colorbar\":{\"outlinewidth\":0,\"ticks\":\"\"},\"colorscale\":[[0.0,\"#0d0887\"],[0.1111111111111111,\"#46039f\"],[0.2222222222222222,\"#7201a8\"],[0.3333333333333333,\"#9c179e\"],[0.4444444444444444,\"#bd3786\"],[0.5555555555555556,\"#d8576b\"],[0.6666666666666666,\"#ed7953\"],[0.7777777777777778,\"#fb9f3a\"],[0.8888888888888888,\"#fdca26\"],[1.0,\"#f0f921\"]],\"type\":\"contour\"}],\"contourcarpet\":[{\"colorbar\":{\"outlinewidth\":0,\"ticks\":\"\"},\"type\":\"contourcarpet\"}],\"heatmap\":[{\"colorbar\":{\"outlinewidth\":0,\"ticks\":\"\"},\"colorscale\":[[0.0,\"#0d0887\"],[0.1111111111111111,\"#46039f\"],[0.2222222222222222,\"#7201a8\"],[0.3333333333333333,\"#9c179e\"],[0.4444444444444444,\"#bd3786\"],[0.5555555555555556,\"#d8576b\"],[0.6666666666666666,\"#ed7953\"],[0.7777777777777778,\"#fb9f3a\"],[0.8888888888888888,\"#fdca26\"],[1.0,\"#f0f921\"]],\"type\":\"heatmap\"}],\"heatmapgl\":[{\"colorbar\":{\"outlinewidth\":0,\"ticks\":\"\"},\"colorscale\":[[0.0,\"#0d0887\"],[0.1111111111111111,\"#46039f\"],[0.2222222222222222,\"#7201a8\"],[0.3333333333333333,\"#9c179e\"],[0.4444444444444444,\"#bd3786\"],[0.5555555555555556,\"#d8576b\"],[0.6666666666666666,\"#ed7953\"],[0.7777777777777778,\"#fb9f3a\"],[0.8888888888888888,\"#fdca26\"],[1.0,\"#f0f921\"]],\"type\":\"heatmapgl\"}],\"histogram\":[{\"marker\":{\"pattern\":{\"fillmode\":\"overlay\",\"size\":10,\"solidity\":0.2}},\"type\":\"histogram\"}],\"histogram2d\":[{\"colorbar\":{\"outlinewidth\":0,\"ticks\":\"\"},\"colorscale\":[[0.0,\"#0d0887\"],[0.1111111111111111,\"#46039f\"],[0.2222222222222222,\"#7201a8\"],[0.3333333333333333,\"#9c179e\"],[0.4444444444444444,\"#bd3786\"],[0.5555555555555556,\"#d8576b\"],[0.6666666666666666,\"#ed7953\"],[0.7777777777777778,\"#fb9f3a\"],[0.8888888888888888,\"#fdca26\"],[1.0,\"#f0f921\"]],\"type\":\"histogram2d\"}],\"histogram2dcontour\":[{\"colorbar\":{\"outlinewidth\":0,\"ticks\":\"\"},\"colorscale\":[[0.0,\"#0d0887\"],[0.1111111111111111,\"#46039f\"],[0.2222222222222222,\"#7201a8\"],[0.3333333333333333,\"#9c179e\"],[0.4444444444444444,\"#bd3786\"],[0.5555555555555556,\"#d8576b\"],[0.6666666666666666,\"#ed7953\"],[0.7777777777777778,\"#fb9f3a\"],[0.8888888888888888,\"#fdca26\"],[1.0,\"#f0f921\"]],\"type\":\"histogram2dcontour\"}],\"mesh3d\":[{\"colorbar\":{\"outlinewidth\":0,\"ticks\":\"\"},\"type\":\"mesh3d\"}],\"parcoords\":[{\"line\":{\"colorbar\":{\"outlinewidth\":0,\"ticks\":\"\"}},\"type\":\"parcoords\"}],\"pie\":[{\"automargin\":true,\"type\":\"pie\"}],\"scatter\":[{\"marker\":{\"colorbar\":{\"outlinewidth\":0,\"ticks\":\"\"}},\"type\":\"scatter\"}],\"scatter3d\":[{\"line\":{\"colorbar\":{\"outlinewidth\":0,\"ticks\":\"\"}},\"marker\":{\"colorbar\":{\"outlinewidth\":0,\"ticks\":\"\"}},\"type\":\"scatter3d\"}],\"scattercarpet\":[{\"marker\":{\"colorbar\":{\"outlinewidth\":0,\"ticks\":\"\"}},\"type\":\"scattercarpet\"}],\"scattergeo\":[{\"marker\":{\"colorbar\":{\"outlinewidth\":0,\"ticks\":\"\"}},\"type\":\"scattergeo\"}],\"scattergl\":[{\"marker\":{\"colorbar\":{\"outlinewidth\":0,\"ticks\":\"\"}},\"type\":\"scattergl\"}],\"scattermapbox\":[{\"marker\":{\"colorbar\":{\"outlinewidth\":0,\"ticks\":\"\"}},\"type\":\"scattermapbox\"}],\"scatterpolar\":[{\"marker\":{\"colorbar\":{\"outlinewidth\":0,\"ticks\":\"\"}},\"type\":\"scatterpolar\"}],\"scatterpolargl\":[{\"marker\":{\"colorbar\":{\"outlinewidth\":0,\"ticks\":\"\"}},\"type\":\"scatterpolargl\"}],\"scatterternary\":[{\"marker\":{\"colorbar\":{\"outlinewidth\":0,\"ticks\":\"\"}},\"type\":\"scatterternary\"}],\"surface\":[{\"colorbar\":{\"outlinewidth\":0,\"ticks\":\"\"},\"colorscale\":[[0.0,\"#0d0887\"],[0.1111111111111111,\"#46039f\"],[0.2222222222222222,\"#7201a8\"],[0.3333333333333333,\"#9c179e\"],[0.4444444444444444,\"#bd3786\"],[0.5555555555555556,\"#d8576b\"],[0.6666666666666666,\"#ed7953\"],[0.7777777777777778,\"#fb9f3a\"],[0.8888888888888888,\"#fdca26\"],[1.0,\"#f0f921\"]],\"type\":\"surface\"}],\"table\":[{\"cells\":{\"fill\":{\"color\":\"#EBF0F8\"},\"line\":{\"color\":\"white\"}},\"header\":{\"fill\":{\"color\":\"#C8D4E3\"},\"line\":{\"color\":\"white\"}},\"type\":\"table\"}]},\"layout\":{\"annotationdefaults\":{\"arrowcolor\":\"#2a3f5f\",\"arrowhead\":0,\"arrowwidth\":1},\"autotypenumbers\":\"strict\",\"coloraxis\":{\"colorbar\":{\"outlinewidth\":0,\"ticks\":\"\"}},\"colorscale\":{\"diverging\":[[0,\"#8e0152\"],[0.1,\"#c51b7d\"],[0.2,\"#de77ae\"],[0.3,\"#f1b6da\"],[0.4,\"#fde0ef\"],[0.5,\"#f7f7f7\"],[0.6,\"#e6f5d0\"],[0.7,\"#b8e186\"],[0.8,\"#7fbc41\"],[0.9,\"#4d9221\"],[1,\"#276419\"]],\"sequential\":[[0.0,\"#0d0887\"],[0.1111111111111111,\"#46039f\"],[0.2222222222222222,\"#7201a8\"],[0.3333333333333333,\"#9c179e\"],[0.4444444444444444,\"#bd3786\"],[0.5555555555555556,\"#d8576b\"],[0.6666666666666666,\"#ed7953\"],[0.7777777777777778,\"#fb9f3a\"],[0.8888888888888888,\"#fdca26\"],[1.0,\"#f0f921\"]],\"sequentialminus\":[[0.0,\"#0d0887\"],[0.1111111111111111,\"#46039f\"],[0.2222222222222222,\"#7201a8\"],[0.3333333333333333,\"#9c179e\"],[0.4444444444444444,\"#bd3786\"],[0.5555555555555556,\"#d8576b\"],[0.6666666666666666,\"#ed7953\"],[0.7777777777777778,\"#fb9f3a\"],[0.8888888888888888,\"#fdca26\"],[1.0,\"#f0f921\"]]},\"colorway\":[\"#636efa\",\"#EF553B\",\"#00cc96\",\"#ab63fa\",\"#FFA15A\",\"#19d3f3\",\"#FF6692\",\"#B6E880\",\"#FF97FF\",\"#FECB52\"],\"font\":{\"color\":\"#2a3f5f\"},\"geo\":{\"bgcolor\":\"white\",\"lakecolor\":\"white\",\"landcolor\":\"#E5ECF6\",\"showlakes\":true,\"showland\":true,\"subunitcolor\":\"white\"},\"hoverlabel\":{\"align\":\"left\"},\"hovermode\":\"closest\",\"mapbox\":{\"style\":\"light\"},\"paper_bgcolor\":\"white\",\"plot_bgcolor\":\"#E5ECF6\",\"polar\":{\"angularaxis\":{\"gridcolor\":\"white\",\"linecolor\":\"white\",\"ticks\":\"\"},\"bgcolor\":\"#E5ECF6\",\"radialaxis\":{\"gridcolor\":\"white\",\"linecolor\":\"white\",\"ticks\":\"\"}},\"scene\":{\"xaxis\":{\"backgroundcolor\":\"#E5ECF6\",\"gridcolor\":\"white\",\"gridwidth\":2,\"linecolor\":\"white\",\"showbackground\":true,\"ticks\":\"\",\"zerolinecolor\":\"white\"},\"yaxis\":{\"backgroundcolor\":\"#E5ECF6\",\"gridcolor\":\"white\",\"gridwidth\":2,\"linecolor\":\"white\",\"showbackground\":true,\"ticks\":\"\",\"zerolinecolor\":\"white\"},\"zaxis\":{\"backgroundcolor\":\"#E5ECF6\",\"gridcolor\":\"white\",\"gridwidth\":2,\"linecolor\":\"white\",\"showbackground\":true,\"ticks\":\"\",\"zerolinecolor\":\"white\"}},\"shapedefaults\":{\"line\":{\"color\":\"#2a3f5f\"}},\"ternary\":{\"aaxis\":{\"gridcolor\":\"white\",\"linecolor\":\"white\",\"ticks\":\"\"},\"baxis\":{\"gridcolor\":\"white\",\"linecolor\":\"white\",\"ticks\":\"\"},\"bgcolor\":\"#E5ECF6\",\"caxis\":{\"gridcolor\":\"white\",\"linecolor\":\"white\",\"ticks\":\"\"}},\"title\":{\"x\":0.05},\"xaxis\":{\"automargin\":true,\"gridcolor\":\"white\",\"linecolor\":\"white\",\"ticks\":\"\",\"title\":{\"standoff\":15},\"zerolinecolor\":\"white\",\"zerolinewidth\":2},\"yaxis\":{\"automargin\":true,\"gridcolor\":\"white\",\"linecolor\":\"white\",\"ticks\":\"\",\"title\":{\"standoff\":15},\"zerolinecolor\":\"white\",\"zerolinewidth\":2}}},\"legend\":{\"tracegroupgap\":0},\"title\":{\"text\":\"Canais de entrada\"}},                        {\"responsive\": true}                    ).then(function(){\n",
       "                            \n",
       "var gd = document.getElementById('4134481e-fe1d-4c72-a068-b96c32c6ae60');\n",
       "var x = new MutationObserver(function (mutations, observer) {{\n",
       "        var display = window.getComputedStyle(gd).display;\n",
       "        if (!display || display === 'none') {{\n",
       "            console.log([gd, 'removed!']);\n",
       "            Plotly.purge(gd);\n",
       "            observer.disconnect();\n",
       "        }}\n",
       "}});\n",
       "\n",
       "// Listen for the removal of the full notebook cells\n",
       "var notebookContainer = gd.closest('#notebook-container');\n",
       "if (notebookContainer) {{\n",
       "    x.observe(notebookContainer, {childList: true});\n",
       "}}\n",
       "\n",
       "// Listen for the clearing of the current output cell\n",
       "var outputEl = gd.closest('.output');\n",
       "if (outputEl) {{\n",
       "    x.observe(outputEl, {childList: true});\n",
       "}}\n",
       "\n",
       "                        })                };                });            </script>        </div>"
      ]
     },
     "metadata": {},
     "output_type": "display_data"
    },
    {
     "data": {
      "text/plain": [
       "<Figure size 360x360 with 0 Axes>"
      ]
     },
     "metadata": {},
     "output_type": "display_data"
    }
   ],
   "source": [
    "plt.figure(figsize=(5,5))\n",
    "label = df['Entry Channel'].value_counts().index\n",
    "label_count = df['Entry Channel'].value_counts().values\n",
    "fig = px.pie(df, values=label_count, names=label, title='Canais de entrada')\n",
    "fig.show()"
   ]
  },
  {
   "cell_type": "code",
   "execution_count": 67,
   "id": "272cf8d1",
   "metadata": {},
   "outputs": [
    {
     "data": {
      "text/plain": [
       "Text(0, 0.5, 'Leitores')"
      ]
     },
     "execution_count": 67,
     "metadata": {},
     "output_type": "execute_result"
    },
    {
     "data": {
      "image/png": "[encoded data removed]",
      "text/plain": [
       "<Figure size 864x432 with 1 Axes>"
      ]
     },
     "metadata": {
      "needs_background": "light"
     },
     "output_type": "display_data"
    }
   ],
   "source": [
    "plt.figure(figsize=(12,6))\n",
    "sns.countplot(x=df['Entry Channel'], data=df)\n",
    "plt.title('Analisando canais de aquisição')\n",
    "plt.xlabel('Canais de entrada')\n",
    "plt.ylabel('Leitores')"
   ]
  },
  {
   "cell_type": "markdown",
   "id": "ce0f8aa7",
   "metadata": {},
   "source": [
    "- Baseado nos gráficos acima, o método de divulgação com mais resultados é o Facebook, seguido pelo método de referências e anuncios do Google. \n",
    "- O método de referências indica que os sorteios estão tendo resultados diretos na frequência do público com o Dênius."
   ]
  },
  {
   "cell_type": "markdown",
   "id": "9d818e0b",
   "metadata": {},
   "source": [
    "### Newsletter:"
   ]
  },
  {
   "cell_type": "code",
   "execution_count": 68,
   "id": "63da9fe4",
   "metadata": {},
   "outputs": [
    {
     "data": {
      "text/plain": [
       "Text(0, 0.5, 'leitores do canal')"
      ]
     },
     "execution_count": 68,
     "metadata": {},
     "output_type": "execute_result"
    },
    {
     "data": {
      "image/png": "[encoded data removed]",
      "text/plain": [
       "<Figure size 864x432 with 1 Axes>"
      ]
     },
     "metadata": {
      "needs_background": "light"
     },
     "output_type": "display_data"
    }
   ],
   "source": [
    "plt.figure(figsize=(12,6))\n",
    "sns.countplot(x=df['Newsletter'], data=df)\n",
    "plt.title('Newsletter')\n",
    "plt.xlabel('Canais de notícias')\n",
    "plt.ylabel('leitores do canal')"
   ]
  },
  {
   "cell_type": "markdown",
   "id": "d44c276b",
   "metadata": {},
   "source": [
    "- Os dados indicam que o canal \"the news\" tem grande vantagem entre os leitores\n",
    "- Por ser o canal principal e o que tem as noticias gerais, o \"the news\" ganha essa vantagem\n",
    "- Logo atrás vem o \"the biziness\" indicando o interesse das pessoas no mundo de negócios e finanças"
   ]
  },
  {
   "cell_type": "code",
   "execution_count": 69,
   "id": "a15b50f3",
   "metadata": {
    "scrolled": false
   },
   "outputs": [
    {
     "data": {
      "text/plain": [
       "Text(0, 0.5, 'Open Rate')"
      ]
     },
     "execution_count": 69,
     "metadata": {},
     "output_type": "execute_result"
    },
    {
     "data": {
      "image/png": "[encoded data removed]",
      "text/plain": [
       "<Figure size 864x432 with 1 Axes>"
      ]
     },
     "metadata": {
      "needs_background": "light"
     },
     "output_type": "display_data"
    }
   ],
   "source": [
    "plt.figure(figsize=(12,6))\n",
    "sns.barplot(x=df['Newsletter'], y=df['Open Rate'], data=df)\n",
    "plt.title('Newsletter')\n",
    "plt.xlabel('Canais de notícias')\n",
    "plt.ylabel('Open Rate')"
   ]
  },
  {
   "cell_type": "markdown",
   "id": "6a112f7f",
   "metadata": {},
   "source": [
    "- De acordo com o gráfico acima a taxa de leitura do \"the news\" é levemente maior entre os leitores, seguido pelo \"the biziness\", \"the champs\" e finalmente o \"the stories\", chegando em media a 50% na taxa de abertura"
   ]
  },
  {
   "cell_type": "code",
   "execution_count": 70,
   "id": "fe2924f1",
   "metadata": {},
   "outputs": [
    {
     "data": {
      "text/plain": [
       "Text(0, 0.5, 'Open Rate')"
      ]
     },
     "execution_count": 70,
     "metadata": {},
     "output_type": "execute_result"
    },
    {
     "data": {
      "image/png": "[encoded data removed]",
      "text/plain": [
       "<Figure size 864x432 with 1 Axes>"
      ]
     },
     "metadata": {
      "needs_background": "light"
     },
     "output_type": "display_data"
    }
   ],
   "source": [
    "df1 = df[df['Open Rate'] > 0.7]\n",
    "plt.figure(figsize=(12,6))\n",
    "sns.barplot(x=df1['Newsletter'], y=df1['Open Rate'], data=df1)\n",
    "plt.title('Newsletter')\n",
    "plt.xlabel('Canais de notícias')\n",
    "plt.ylabel('Open Rate')"
   ]
  },
  {
   "cell_type": "markdown",
   "id": "e0ee1b67",
   "metadata": {},
   "source": [
    "Entre as taxas de abertura com maior frequência (mais que 70%), os canais de Newsletter estão bem equilibrados."
   ]
  },
  {
   "cell_type": "markdown",
   "id": "c6a198fe",
   "metadata": {},
   "source": [
    "### Comportamento dos Leitores em relação a tipo de Newsletter:"
   ]
  },
  {
   "cell_type": "code",
   "execution_count": 71,
   "id": "59f58542",
   "metadata": {},
   "outputs": [
    {
     "data": {
      "text/html": [
       "<div>\n",
       "<style scoped>\n",
       "    .dataframe tbody tr th:only-of-type {\n",
       "        vertical-align: middle;\n",
       "    }\n",
       "\n",
       "    .dataframe tbody tr th {\n",
       "        vertical-align: top;\n",
       "    }\n",
       "\n",
       "    .dataframe thead th {\n",
       "        text-align: right;\n",
       "    }\n",
       "</style>\n",
       "<table border=\"1\" class=\"dataframe\">\n",
       "  <thead>\n",
       "    <tr style=\"text-align: right;\">\n",
       "      <th></th>\n",
       "      <th>first_name</th>\n",
       "      <th>last_name</th>\n",
       "      <th>email</th>\n",
       "      <th>Entry Date</th>\n",
       "      <th>Last Opened</th>\n",
       "      <th>Open Rate</th>\n",
       "      <th>Newsletter</th>\n",
       "      <th>Entry Channel</th>\n",
       "      <th>LastOpened_bf_Entry</th>\n",
       "      <th>qte_dias</th>\n",
       "    </tr>\n",
       "  </thead>\n",
       "  <tbody>\n",
       "    <tr>\n",
       "      <th>1</th>\n",
       "      <td>Shir</td>\n",
       "      <td>Halloran</td>\n",
       "      <td>shalloran1@narod.ru</td>\n",
       "      <td>2021-10-07</td>\n",
       "      <td>2022-02-01</td>\n",
       "      <td>0.02</td>\n",
       "      <td>the bizness</td>\n",
       "      <td>Referral</td>\n",
       "      <td>False</td>\n",
       "      <td>117 days</td>\n",
       "    </tr>\n",
       "    <tr>\n",
       "      <th>6</th>\n",
       "      <td>Kev</td>\n",
       "      <td>Duncombe</td>\n",
       "      <td>kduncombe6@marketwatch.com</td>\n",
       "      <td>2022-03-05</td>\n",
       "      <td>2022-12-06</td>\n",
       "      <td>0.15</td>\n",
       "      <td>the news</td>\n",
       "      <td>Organic</td>\n",
       "      <td>False</td>\n",
       "      <td>276 days</td>\n",
       "    </tr>\n",
       "    <tr>\n",
       "      <th>10</th>\n",
       "      <td>Shena</td>\n",
       "      <td>Matyushenko</td>\n",
       "      <td>smatyushenkoa@usda.gov</td>\n",
       "      <td>2022-02-05</td>\n",
       "      <td>2022-03-21</td>\n",
       "      <td>0.88</td>\n",
       "      <td>the champs</td>\n",
       "      <td>Insta</td>\n",
       "      <td>False</td>\n",
       "      <td>44 days</td>\n",
       "    </tr>\n",
       "    <tr>\n",
       "      <th>11</th>\n",
       "      <td>Noland</td>\n",
       "      <td>Mangin</td>\n",
       "      <td>nmanginb@pagesperso-orange.fr</td>\n",
       "      <td>2021-05-08</td>\n",
       "      <td>2022-03-26</td>\n",
       "      <td>0.03</td>\n",
       "      <td>the champs</td>\n",
       "      <td>Insta</td>\n",
       "      <td>False</td>\n",
       "      <td>322 days</td>\n",
       "    </tr>\n",
       "    <tr>\n",
       "      <th>13</th>\n",
       "      <td>Tiffani</td>\n",
       "      <td>Lambarton</td>\n",
       "      <td>tlambartond@answers.com</td>\n",
       "      <td>2021-01-12</td>\n",
       "      <td>2022-10-02</td>\n",
       "      <td>0.88</td>\n",
       "      <td>the news</td>\n",
       "      <td>Organic</td>\n",
       "      <td>False</td>\n",
       "      <td>628 days</td>\n",
       "    </tr>\n",
       "  </tbody>\n",
       "</table>\n",
       "</div>"
      ],
      "text/plain": [
       "   first_name    last_name                          email Entry Date  \\\n",
       "1        Shir     Halloran            shalloran1@narod.ru 2021-10-07   \n",
       "6         Kev     Duncombe     kduncombe6@marketwatch.com 2022-03-05   \n",
       "10      Shena  Matyushenko         smatyushenkoa@usda.gov 2022-02-05   \n",
       "11     Noland       Mangin  nmanginb@pagesperso-orange.fr 2021-05-08   \n",
       "13    Tiffani    Lambarton        tlambartond@answers.com 2021-01-12   \n",
       "\n",
       "   Last Opened  Open Rate   Newsletter Entry Channel  LastOpened_bf_Entry  \\\n",
       "1   2022-02-01       0.02  the bizness      Referral                False   \n",
       "6   2022-12-06       0.15     the news       Organic                False   \n",
       "10  2022-03-21       0.88   the champs         Insta                False   \n",
       "11  2022-03-26       0.03   the champs         Insta                False   \n",
       "13  2022-10-02       0.88     the news       Organic                False   \n",
       "\n",
       "   qte_dias  \n",
       "1  117 days  \n",
       "6  276 days  \n",
       "10  44 days  \n",
       "11 322 days  \n",
       "13 628 days  "
      ]
     },
     "execution_count": 71,
     "metadata": {},
     "output_type": "execute_result"
    }
   ],
   "source": [
    "pd.set_option('mode.chained_assignment', None)\n",
    "df_dias = df[df['LastOpened_bf_Entry']==False]\n",
    "df_dias['qte_dias'] = df_dias['Last Opened'] - df_dias['Entry Date']\n",
    "df_dias.head()"
   ]
  },
  {
   "cell_type": "code",
   "execution_count": 72,
   "id": "9bf7a1b6",
   "metadata": {},
   "outputs": [
    {
     "data": {
      "image/png": "[encoded data removed]",
      "text/plain": [
       "<Figure size 432x288 with 1 Axes>"
      ]
     },
     "metadata": {
      "needs_background": "light"
     },
     "output_type": "display_data"
    }
   ],
   "source": [
    "plt.scatter(df_dias['Open Rate'], df_dias['qte_dias'].dt.days, color='purple')\n",
    "plt.title('Open Rate X Qte de dias')\n",
    "plt.xlabel('Open Rate')\n",
    "plt.ylabel('Qte de dias')\n",
    "plt.show()"
   ]
  },
  {
   "cell_type": "markdown",
   "id": "ddbe3df8",
   "metadata": {},
   "source": [
    "- Percebe-se que há leitores que mantém constancia na abertura dos emails como há leitores que abandonam e depois varios meses voltaram a ficar ativos"
   ]
  },
  {
   "cell_type": "code",
   "execution_count": 73,
   "id": "dc757a65",
   "metadata": {},
   "outputs": [
    {
     "data": {
      "text/html": [
       "<div>\n",
       "<style scoped>\n",
       "    .dataframe tbody tr th:only-of-type {\n",
       "        vertical-align: middle;\n",
       "    }\n",
       "\n",
       "    .dataframe tbody tr th {\n",
       "        vertical-align: top;\n",
       "    }\n",
       "\n",
       "    .dataframe thead th {\n",
       "        text-align: right;\n",
       "    }\n",
       "</style>\n",
       "<table border=\"1\" class=\"dataframe\">\n",
       "  <thead>\n",
       "    <tr style=\"text-align: right;\">\n",
       "      <th></th>\n",
       "      <th>Open Rate</th>\n",
       "      <th>qte_dias</th>\n",
       "    </tr>\n",
       "  </thead>\n",
       "  <tbody>\n",
       "    <tr>\n",
       "      <th>count</th>\n",
       "      <td>161.000000</td>\n",
       "      <td>161</td>\n",
       "    </tr>\n",
       "    <tr>\n",
       "      <th>mean</th>\n",
       "      <td>0.546646</td>\n",
       "      <td>191 days 05:39:52.546583850</td>\n",
       "    </tr>\n",
       "    <tr>\n",
       "      <th>std</th>\n",
       "      <td>0.265386</td>\n",
       "      <td>138 days 14:42:33.125646988</td>\n",
       "    </tr>\n",
       "    <tr>\n",
       "      <th>min</th>\n",
       "      <td>0.010000</td>\n",
       "      <td>2 days 00:00:00</td>\n",
       "    </tr>\n",
       "    <tr>\n",
       "      <th>25%</th>\n",
       "      <td>0.340000</td>\n",
       "      <td>85 days 00:00:00</td>\n",
       "    </tr>\n",
       "    <tr>\n",
       "      <th>50%</th>\n",
       "      <td>0.550000</td>\n",
       "      <td>158 days 00:00:00</td>\n",
       "    </tr>\n",
       "    <tr>\n",
       "      <th>75%</th>\n",
       "      <td>0.790000</td>\n",
       "      <td>269 days 00:00:00</td>\n",
       "    </tr>\n",
       "    <tr>\n",
       "      <th>max</th>\n",
       "      <td>1.000000</td>\n",
       "      <td>663 days 00:00:00</td>\n",
       "    </tr>\n",
       "  </tbody>\n",
       "</table>\n",
       "</div>"
      ],
      "text/plain": [
       "        Open Rate                     qte_dias\n",
       "count  161.000000                          161\n",
       "mean     0.546646  191 days 05:39:52.546583850\n",
       "std      0.265386  138 days 14:42:33.125646988\n",
       "min      0.010000              2 days 00:00:00\n",
       "25%      0.340000             85 days 00:00:00\n",
       "50%      0.550000            158 days 00:00:00\n",
       "75%      0.790000            269 days 00:00:00\n",
       "max      1.000000            663 days 00:00:00"
      ]
     },
     "execution_count": 73,
     "metadata": {},
     "output_type": "execute_result"
    }
   ],
   "source": [
    "df_dias[df_dias['Newsletter'] == 'the news'].describe()"
   ]
  },
  {
   "cell_type": "code",
   "execution_count": 74,
   "id": "508e7783",
   "metadata": {},
   "outputs": [
    {
     "data": {
      "text/html": [
       "<div>\n",
       "<style scoped>\n",
       "    .dataframe tbody tr th:only-of-type {\n",
       "        vertical-align: middle;\n",
       "    }\n",
       "\n",
       "    .dataframe tbody tr th {\n",
       "        vertical-align: top;\n",
       "    }\n",
       "\n",
       "    .dataframe thead th {\n",
       "        text-align: right;\n",
       "    }\n",
       "</style>\n",
       "<table border=\"1\" class=\"dataframe\">\n",
       "  <thead>\n",
       "    <tr style=\"text-align: right;\">\n",
       "      <th></th>\n",
       "      <th>Open Rate</th>\n",
       "      <th>qte_dias</th>\n",
       "    </tr>\n",
       "  </thead>\n",
       "  <tbody>\n",
       "    <tr>\n",
       "      <th>count</th>\n",
       "      <td>134.000000</td>\n",
       "      <td>134</td>\n",
       "    </tr>\n",
       "    <tr>\n",
       "      <th>mean</th>\n",
       "      <td>0.512463</td>\n",
       "      <td>175 days 22:12:32.238805970</td>\n",
       "    </tr>\n",
       "    <tr>\n",
       "      <th>std</th>\n",
       "      <td>0.281626</td>\n",
       "      <td>122 days 10:18:30.352535284</td>\n",
       "    </tr>\n",
       "    <tr>\n",
       "      <th>min</th>\n",
       "      <td>0.020000</td>\n",
       "      <td>0 days 00:00:00</td>\n",
       "    </tr>\n",
       "    <tr>\n",
       "      <th>25%</th>\n",
       "      <td>0.290000</td>\n",
       "      <td>70 days 00:00:00</td>\n",
       "    </tr>\n",
       "    <tr>\n",
       "      <th>50%</th>\n",
       "      <td>0.510000</td>\n",
       "      <td>158 days 12:00:00</td>\n",
       "    </tr>\n",
       "    <tr>\n",
       "      <th>75%</th>\n",
       "      <td>0.737500</td>\n",
       "      <td>259 days 06:00:00</td>\n",
       "    </tr>\n",
       "    <tr>\n",
       "      <th>max</th>\n",
       "      <td>1.000000</td>\n",
       "      <td>514 days 00:00:00</td>\n",
       "    </tr>\n",
       "  </tbody>\n",
       "</table>\n",
       "</div>"
      ],
      "text/plain": [
       "        Open Rate                     qte_dias\n",
       "count  134.000000                          134\n",
       "mean     0.512463  175 days 22:12:32.238805970\n",
       "std      0.281626  122 days 10:18:30.352535284\n",
       "min      0.020000              0 days 00:00:00\n",
       "25%      0.290000             70 days 00:00:00\n",
       "50%      0.510000            158 days 12:00:00\n",
       "75%      0.737500            259 days 06:00:00\n",
       "max      1.000000            514 days 00:00:00"
      ]
     },
     "execution_count": 74,
     "metadata": {},
     "output_type": "execute_result"
    }
   ],
   "source": [
    "df_dias[df_dias['Newsletter'] == 'the bizness'].describe()"
   ]
  },
  {
   "cell_type": "code",
   "execution_count": 75,
   "id": "b956aa4f",
   "metadata": {},
   "outputs": [
    {
     "data": {
      "text/html": [
       "<div>\n",
       "<style scoped>\n",
       "    .dataframe tbody tr th:only-of-type {\n",
       "        vertical-align: middle;\n",
       "    }\n",
       "\n",
       "    .dataframe tbody tr th {\n",
       "        vertical-align: top;\n",
       "    }\n",
       "\n",
       "    .dataframe thead th {\n",
       "        text-align: right;\n",
       "    }\n",
       "</style>\n",
       "<table border=\"1\" class=\"dataframe\">\n",
       "  <thead>\n",
       "    <tr style=\"text-align: right;\">\n",
       "      <th></th>\n",
       "      <th>Open Rate</th>\n",
       "      <th>qte_dias</th>\n",
       "    </tr>\n",
       "  </thead>\n",
       "  <tbody>\n",
       "    <tr>\n",
       "      <th>count</th>\n",
       "      <td>93.000000</td>\n",
       "      <td>93</td>\n",
       "    </tr>\n",
       "    <tr>\n",
       "      <th>mean</th>\n",
       "      <td>0.488710</td>\n",
       "      <td>171 days 09:01:56.129032258</td>\n",
       "    </tr>\n",
       "    <tr>\n",
       "      <th>std</th>\n",
       "      <td>0.299664</td>\n",
       "      <td>120 days 21:08:30.402324014</td>\n",
       "    </tr>\n",
       "    <tr>\n",
       "      <th>min</th>\n",
       "      <td>0.020000</td>\n",
       "      <td>6 days 00:00:00</td>\n",
       "    </tr>\n",
       "    <tr>\n",
       "      <th>25%</th>\n",
       "      <td>0.230000</td>\n",
       "      <td>75 days 00:00:00</td>\n",
       "    </tr>\n",
       "    <tr>\n",
       "      <th>50%</th>\n",
       "      <td>0.460000</td>\n",
       "      <td>151 days 00:00:00</td>\n",
       "    </tr>\n",
       "    <tr>\n",
       "      <th>75%</th>\n",
       "      <td>0.740000</td>\n",
       "      <td>252 days 00:00:00</td>\n",
       "    </tr>\n",
       "    <tr>\n",
       "      <th>max</th>\n",
       "      <td>1.000000</td>\n",
       "      <td>482 days 00:00:00</td>\n",
       "    </tr>\n",
       "  </tbody>\n",
       "</table>\n",
       "</div>"
      ],
      "text/plain": [
       "       Open Rate                     qte_dias\n",
       "count  93.000000                           93\n",
       "mean    0.488710  171 days 09:01:56.129032258\n",
       "std     0.299664  120 days 21:08:30.402324014\n",
       "min     0.020000              6 days 00:00:00\n",
       "25%     0.230000             75 days 00:00:00\n",
       "50%     0.460000            151 days 00:00:00\n",
       "75%     0.740000            252 days 00:00:00\n",
       "max     1.000000            482 days 00:00:00"
      ]
     },
     "execution_count": 75,
     "metadata": {},
     "output_type": "execute_result"
    }
   ],
   "source": [
    "df_dias[df_dias['Newsletter'] == 'the champs'].describe()"
   ]
  },
  {
   "cell_type": "code",
   "execution_count": 76,
   "id": "5ef30981",
   "metadata": {},
   "outputs": [
    {
     "data": {
      "text/html": [
       "<div>\n",
       "<style scoped>\n",
       "    .dataframe tbody tr th:only-of-type {\n",
       "        vertical-align: middle;\n",
       "    }\n",
       "\n",
       "    .dataframe tbody tr th {\n",
       "        vertical-align: top;\n",
       "    }\n",
       "\n",
       "    .dataframe thead th {\n",
       "        text-align: right;\n",
       "    }\n",
       "</style>\n",
       "<table border=\"1\" class=\"dataframe\">\n",
       "  <thead>\n",
       "    <tr style=\"text-align: right;\">\n",
       "      <th></th>\n",
       "      <th>Open Rate</th>\n",
       "      <th>qte_dias</th>\n",
       "    </tr>\n",
       "  </thead>\n",
       "  <tbody>\n",
       "    <tr>\n",
       "      <th>count</th>\n",
       "      <td>48.000000</td>\n",
       "      <td>48</td>\n",
       "    </tr>\n",
       "    <tr>\n",
       "      <th>mean</th>\n",
       "      <td>0.445208</td>\n",
       "      <td>151 days 16:30:00</td>\n",
       "    </tr>\n",
       "    <tr>\n",
       "      <th>std</th>\n",
       "      <td>0.287358</td>\n",
       "      <td>120 days 07:13:17.034786422</td>\n",
       "    </tr>\n",
       "    <tr>\n",
       "      <th>min</th>\n",
       "      <td>0.010000</td>\n",
       "      <td>4 days 00:00:00</td>\n",
       "    </tr>\n",
       "    <tr>\n",
       "      <th>25%</th>\n",
       "      <td>0.207500</td>\n",
       "      <td>66 days 00:00:00</td>\n",
       "    </tr>\n",
       "    <tr>\n",
       "      <th>50%</th>\n",
       "      <td>0.400000</td>\n",
       "      <td>131 days 00:00:00</td>\n",
       "    </tr>\n",
       "    <tr>\n",
       "      <th>75%</th>\n",
       "      <td>0.655000</td>\n",
       "      <td>207 days 18:00:00</td>\n",
       "    </tr>\n",
       "    <tr>\n",
       "      <th>max</th>\n",
       "      <td>0.990000</td>\n",
       "      <td>469 days 00:00:00</td>\n",
       "    </tr>\n",
       "  </tbody>\n",
       "</table>\n",
       "</div>"
      ],
      "text/plain": [
       "       Open Rate                     qte_dias\n",
       "count  48.000000                           48\n",
       "mean    0.445208            151 days 16:30:00\n",
       "std     0.287358  120 days 07:13:17.034786422\n",
       "min     0.010000              4 days 00:00:00\n",
       "25%     0.207500             66 days 00:00:00\n",
       "50%     0.400000            131 days 00:00:00\n",
       "75%     0.655000            207 days 18:00:00\n",
       "max     0.990000            469 days 00:00:00"
      ]
     },
     "execution_count": 76,
     "metadata": {},
     "output_type": "execute_result"
    }
   ],
   "source": [
    "df_dias[df_dias['Newsletter'] == 'the stories'].describe()"
   ]
  },
  {
   "cell_type": "markdown",
   "id": "318c4c67",
   "metadata": {},
   "source": [
    "- Percebe-se que o interesse dos leitores é mais persistente com o \"the news\" e com o \"the biziness\". A taxa média de dias em que foram ativos é de 161 e 134 dias\n",
    "- O interesse dos leitores caiu um pouco mais rápido com o \"the champions\" com uma média de 93 dias, e caiu bastante com o \"the stories\" com uma média de 48 dias\n",
    "- A taxa média de abertura também cai na mesma proporção\n"
   ]
  },
  {
   "cell_type": "markdown",
   "id": "cd349677",
   "metadata": {},
   "source": [
    "## Conclusões finais:\n",
    "- Os dados nos indicam que a Aquisição de leitores vem melhorando ao longo dos meses graças a divulgação pelo Facebook, método de referências e anuncios do Google.\n",
    "- Percebe-se que os leitores tendem a perder o interesse ao longo do tempo, porém mantém uma certa constância quando se trata do canal \"the news\".\n",
    "- De acordo com essa análise o plano de ação deve ser melhorar as páginas de redes sociais como a do Facebook e agir de forma mais interativa com os leitores. Também, analisar o padrão de referência, oque mais pode motivá-los a indicar o \"the news\" para amigos e parentes.\n",
    "- O fator mais importante é a taxa de abertura, os leitores tendem a ter uma frequência mediana com as notícias, a empresa precisa de meios para que seja alcançado uma média de 700% na leitura frequente pois a retenção é o segredo para o crescimento."
   ]
  },
  {
   "cell_type": "code",
   "execution_count": null,
   "id": "36b91e2d",
   "metadata": {},
   "outputs": [],
   "source": []
  }
 ],
 "metadata": {
  "kernelspec": {
   "display_name": "Python 3 (ipykernel)",
   "language": "python",
   "name": "python3"
  },
  "language_info": {
   "codemirror_mode": {
    "name": "ipython",
    "version": 3
   },
   "file_extension": ".py",
   "mimetype": "text/x-python",
   "name": "python",
   "nbconvert_exporter": "python",
   "pygments_lexer": "ipython3",
   "version": "3.9.12"
  },
  "vscode": {
   "interpreter": {
    "hash": "d2af68a4b51633f13995ebfae92a57b161ed6e58c9d8595f65fa30edeb049295"
   }
  }
 },
 "nbformat": 4,
 "nbformat_minor": 5
}
