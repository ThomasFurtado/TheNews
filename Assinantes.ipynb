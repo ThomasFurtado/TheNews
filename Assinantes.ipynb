{
 "cells": [
  {
   "cell_type": "markdown",
   "id": "6f0d57ec",
   "metadata": {},
   "source": [
    "A ideia é te deixar bem livre para criar as combinações e fazer as análises que quiser, desde que você consiga responder:\n",
    "\n",
    "- Qual nosso melhor canal de aquisição?\n",
    "- Existe algum padrão de comportamento em algum grupo de leitores?\n",
    "- Quais medidas podemos tomar como empresa, com base nos dados analisados por você."
   ]
  },
  {
   "cell_type": "code",
   "execution_count": 1,
   "id": "6c6a8a97",
   "metadata": {},
   "outputs": [],
   "source": [
    "import pandas as pd\n",
    "from matplotlib import pyplot as plt\n",
    "import seaborn as sns\n",
    "import plotly.express as px\n",
    "import numpy as np"
   ]
  },
  {
   "cell_type": "code",
   "execution_count": 2,
   "id": "be2f797f",
   "metadata": {},
   "outputs": [],
   "source": [
    "df = pd.read_json('DataSetTheNews.json')"
   ]
  },
  {
   "cell_type": "markdown",
   "id": "54ce4879",
   "metadata": {},
   "source": [
    "### Visão geral do dataset:"
   ]
  },
  {
   "cell_type": "code",
   "execution_count": 3,
   "id": "4539d803",
   "metadata": {
    "scrolled": true
   },
   "outputs": [
    {
     "data": {
      "text/html": [
       "<div>\n",
       "<style scoped>\n",
       "    .dataframe tbody tr th:only-of-type {\n",
       "        vertical-align: middle;\n",
       "    }\n",
       "\n",
       "    .dataframe tbody tr th {\n",
       "        vertical-align: top;\n",
       "    }\n",
       "\n",
       "    .dataframe thead th {\n",
       "        text-align: right;\n",
       "    }\n",
       "</style>\n",
       "<table border=\"1\" class=\"dataframe\">\n",
       "  <thead>\n",
       "    <tr style=\"text-align: right;\">\n",
       "      <th></th>\n",
       "      <th>first_name</th>\n",
       "      <th>last_name</th>\n",
       "      <th>email</th>\n",
       "      <th>Entry Date</th>\n",
       "      <th>Last Opened</th>\n",
       "      <th>Open Rate</th>\n",
       "      <th>Newsletter</th>\n",
       "      <th>Entry Channel</th>\n",
       "    </tr>\n",
       "  </thead>\n",
       "  <tbody>\n",
       "    <tr>\n",
       "      <th>0</th>\n",
       "      <td>Chaddy</td>\n",
       "      <td>Smithe</td>\n",
       "      <td>csmithe0@census.gov</td>\n",
       "      <td>24/01/2022</td>\n",
       "      <td>23/09/2021</td>\n",
       "      <td>0.88</td>\n",
       "      <td>the news</td>\n",
       "      <td>GoogleAds</td>\n",
       "    </tr>\n",
       "    <tr>\n",
       "      <th>1</th>\n",
       "      <td>Shir</td>\n",
       "      <td>Halloran</td>\n",
       "      <td>shalloran1@narod.ru</td>\n",
       "      <td>10/07/2021</td>\n",
       "      <td>02/01/2022</td>\n",
       "      <td>0.02</td>\n",
       "      <td>the bizness</td>\n",
       "      <td>Referral</td>\n",
       "    </tr>\n",
       "    <tr>\n",
       "      <th>2</th>\n",
       "      <td>Gusti</td>\n",
       "      <td>Schwanden</td>\n",
       "      <td>gschwanden2@feedburner.com</td>\n",
       "      <td>01/05/2022</td>\n",
       "      <td>04/08/2021</td>\n",
       "      <td>0.81</td>\n",
       "      <td>the champs</td>\n",
       "      <td>Referral</td>\n",
       "    </tr>\n",
       "    <tr>\n",
       "      <th>3</th>\n",
       "      <td>Ted</td>\n",
       "      <td>Kettles</td>\n",
       "      <td>tkettles3@noaa.gov</td>\n",
       "      <td>15/05/2022</td>\n",
       "      <td>15/03/2022</td>\n",
       "      <td>0.20</td>\n",
       "      <td>the bizness</td>\n",
       "      <td>Referral</td>\n",
       "    </tr>\n",
       "    <tr>\n",
       "      <th>4</th>\n",
       "      <td>Virginia</td>\n",
       "      <td>Glencorse</td>\n",
       "      <td>vglencorse4@redcross.org</td>\n",
       "      <td>26/06/2022</td>\n",
       "      <td>22/02/2022</td>\n",
       "      <td>0.99</td>\n",
       "      <td>the news</td>\n",
       "      <td>Referral</td>\n",
       "    </tr>\n",
       "  </tbody>\n",
       "</table>\n",
       "</div>"
      ],
      "text/plain": [
       "  first_name  last_name                       email  Entry Date Last Opened  \\\n",
       "0     Chaddy     Smithe         csmithe0@census.gov  24/01/2022  23/09/2021   \n",
       "1       Shir   Halloran         shalloran1@narod.ru  10/07/2021  02/01/2022   \n",
       "2      Gusti  Schwanden  gschwanden2@feedburner.com  01/05/2022  04/08/2021   \n",
       "3        Ted    Kettles          tkettles3@noaa.gov  15/05/2022  15/03/2022   \n",
       "4   Virginia  Glencorse    vglencorse4@redcross.org  26/06/2022  22/02/2022   \n",
       "\n",
       "   Open Rate   Newsletter Entry Channel  \n",
       "0       0.88     the news     GoogleAds  \n",
       "1       0.02  the bizness      Referral  \n",
       "2       0.81   the champs      Referral  \n",
       "3       0.20  the bizness      Referral  \n",
       "4       0.99     the news      Referral  "
      ]
     },
     "execution_count": 3,
     "metadata": {},
     "output_type": "execute_result"
    }
   ],
   "source": [
    "df.head()"
   ]
  },
  {
   "cell_type": "code",
   "execution_count": 4,
   "id": "095506dc",
   "metadata": {},
   "outputs": [
    {
     "data": {
      "text/plain": [
       "array(['GoogleAds', 'Referral', 'Organic', None, 'Insta', 'Influencer',\n",
       "       'Facebook'], dtype=object)"
      ]
     },
     "execution_count": 4,
     "metadata": {},
     "output_type": "execute_result"
    }
   ],
   "source": [
    "df['Entry Channel'].unique()"
   ]
  },
  {
   "cell_type": "code",
   "execution_count": 5,
   "id": "f808a4b4",
   "metadata": {
    "scrolled": true
   },
   "outputs": [
    {
     "data": {
      "text/plain": [
       "array(['the news', 'the bizness', 'the champs', None, 'the stories'],\n",
       "      dtype=object)"
      ]
     },
     "execution_count": 5,
     "metadata": {},
     "output_type": "execute_result"
    }
   ],
   "source": [
    "df['Newsletter'].unique()"
   ]
  },
  {
   "cell_type": "markdown",
   "id": "31ef4a74",
   "metadata": {},
   "source": [
    "- Canais de Aquisição: GoogleAds | Referral | Organic | Instagram | Influencer | Facebook\n",
    "- Canais de notícias: the news | the biziness | the champs | the stories"
   ]
  },
  {
   "cell_type": "code",
   "execution_count": 6,
   "id": "bf4fe2da",
   "metadata": {},
   "outputs": [
    {
     "data": {
      "text/plain": [
       "count    939.000000\n",
       "mean       0.503078\n",
       "std        0.281961\n",
       "min        0.010000\n",
       "25%        0.270000\n",
       "50%        0.500000\n",
       "75%        0.740000\n",
       "max        1.000000\n",
       "Name: Open Rate, dtype: float64"
      ]
     },
     "execution_count": 6,
     "metadata": {},
     "output_type": "execute_result"
    }
   ],
   "source": [
    "df['Open Rate'].describe()"
   ]
  },
  {
   "cell_type": "markdown",
   "id": "60488f0e",
   "metadata": {},
   "source": [
    "- frequência média dos leitores: 50%"
   ]
  },
  {
   "cell_type": "markdown",
   "id": "6cc54746",
   "metadata": {},
   "source": [
    "### Preparação de dados:"
   ]
  },
  {
   "cell_type": "code",
   "execution_count": 7,
   "id": "b3e41800",
   "metadata": {},
   "outputs": [
    {
     "name": "stdout",
     "output_type": "stream",
     "text": [
      "<class 'pandas.core.frame.DataFrame'>\n",
      "RangeIndex: 1000 entries, 0 to 999\n",
      "Data columns (total 8 columns):\n",
      " #   Column         Non-Null Count  Dtype  \n",
      "---  ------         --------------  -----  \n",
      " 0   first_name     973 non-null    object \n",
      " 1   last_name      939 non-null    object \n",
      " 2   email          973 non-null    object \n",
      " 3   Entry Date     939 non-null    object \n",
      " 4   Last Opened    939 non-null    object \n",
      " 5   Open Rate      939 non-null    float64\n",
      " 6   Newsletter     939 non-null    object \n",
      " 7   Entry Channel  939 non-null    object \n",
      "dtypes: float64(1), object(7)\n",
      "memory usage: 62.6+ KB\n"
     ]
    }
   ],
   "source": [
    "df.info()"
   ]
  },
  {
   "cell_type": "code",
   "execution_count": 27,
   "id": "90ba5568",
   "metadata": {
    "scrolled": true
   },
   "outputs": [],
   "source": [
    "df['Entry Date'] = pd.to_datetime(df['Entry Date'])\n",
    "df['Last Opened'] = pd.to_datetime(df['Last Opened'])"
   ]
  },
  {
   "cell_type": "code",
   "execution_count": 9,
   "id": "8b1d1267",
   "metadata": {
    "scrolled": true
   },
   "outputs": [
    {
     "name": "stdout",
     "output_type": "stream",
     "text": [
      "<class 'pandas.core.frame.DataFrame'>\n",
      "RangeIndex: 1000 entries, 0 to 999\n",
      "Data columns (total 8 columns):\n",
      " #   Column         Non-Null Count  Dtype         \n",
      "---  ------         --------------  -----         \n",
      " 0   first_name     973 non-null    object        \n",
      " 1   last_name      939 non-null    object        \n",
      " 2   email          973 non-null    object        \n",
      " 3   Entry Date     939 non-null    datetime64[ns]\n",
      " 4   Last Opened    939 non-null    datetime64[ns]\n",
      " 5   Open Rate      939 non-null    float64       \n",
      " 6   Newsletter     939 non-null    object        \n",
      " 7   Entry Channel  939 non-null    object        \n",
      "dtypes: datetime64[ns](2), float64(1), object(5)\n",
      "memory usage: 62.6+ KB\n"
     ]
    }
   ],
   "source": [
    "df.info()"
   ]
  },
  {
   "cell_type": "markdown",
   "id": "39c84513",
   "metadata": {},
   "source": [
    "### Missing Data:"
   ]
  },
  {
   "cell_type": "code",
   "execution_count": 10,
   "id": "d5a20e50",
   "metadata": {},
   "outputs": [],
   "source": [
    "df['Open Rate'].fillna(value=df['Open Rate'].median(), inplace=True)"
   ]
  },
  {
   "cell_type": "code",
   "execution_count": 11,
   "id": "eecbc832",
   "metadata": {},
   "outputs": [],
   "source": [
    "df.dropna(inplace=True)"
   ]
  },
  {
   "cell_type": "code",
   "execution_count": 12,
   "id": "eab15adb",
   "metadata": {},
   "outputs": [
    {
     "data": {
      "text/plain": [
       "first_name       0\n",
       "last_name        0\n",
       "email            0\n",
       "Entry Date       0\n",
       "Last Opened      0\n",
       "Open Rate        0\n",
       "Newsletter       0\n",
       "Entry Channel    0\n",
       "dtype: int64"
      ]
     },
     "execution_count": 12,
     "metadata": {},
     "output_type": "execute_result"
    }
   ],
   "source": [
    "df.isnull().sum()"
   ]
  },
  {
   "cell_type": "markdown",
   "id": "dafab47f",
   "metadata": {},
   "source": [
    "### Insights importantes:"
   ]
  },
  {
   "cell_type": "code",
   "execution_count": 13,
   "id": "3b9d0aa6",
   "metadata": {},
   "outputs": [
    {
     "data": {
      "text/plain": [
       "Text(0, 0.5, 'Open Rate')"
      ]
     },
     "execution_count": 13,
     "metadata": {},
     "output_type": "execute_result"
    },
    {
     "data": {
      "image/png": "[encoded data removed]",
      "text/plain": [
       "<Figure size 1080x576 with 1 Axes>"
      ]
     },
     "metadata": {
      "needs_background": "light"
     },
     "output_type": "display_data"
    }
   ],
   "source": [
    "plt.figure(figsize=(15,8))\n",
    "df21 = df.loc[(df['Entry Date'] >= '2021-01-01') & (df['Entry Date'] > '2022-01-01')]\n",
    "df21.groupby(df21['Entry Date'].dt.month)[\"Open Rate\"].mean().plot.bar()\n",
    "plt.title('Open Rate X month')\n",
    "plt.xlabel('Entry Date')\n",
    "plt.ylabel('Open Rate')"
   ]
  },
  {
   "cell_type": "code",
   "execution_count": 14,
   "id": "092613f4",
   "metadata": {},
   "outputs": [
    {
     "data": {
      "text/plain": [
       "Text(0, 0.5, 'Open Rate')"
      ]
     },
     "execution_count": 14,
     "metadata": {},
     "output_type": "execute_result"
    },
    {
     "data": {
      "image/png": "[encoded data removed]",
      "text/plain": [
       "<Figure size 1080x576 with 1 Axes>"
      ]
     },
     "metadata": {
      "needs_background": "light"
     },
     "output_type": "display_data"
    }
   ],
   "source": [
    "plt.figure(figsize=(15,8))\n",
    "df22 = df.loc[(df['Entry Date'] >= '2022-01-01') & (df['Entry Date'] <= '2022-06-30')]\n",
    "df22.groupby(df22['Entry Date'].dt.month)[\"Open Rate\"].mean().plot.bar()\n",
    "plt.title('Open Rate X month')\n",
    "plt.xlabel('Entry Date')\n",
    "plt.ylabel('Open Rate')"
   ]
  },
  {
   "cell_type": "markdown",
   "id": "f5a3180e",
   "metadata": {},
   "source": [
    "- Percebe-se que, baseado nos dados acima, a taxa de abertura dos emails tem pouca variância entre 0.4 e 0.6 tendo seu maior desempenho no final de 2021"
   ]
  },
  {
   "cell_type": "code",
   "execution_count": 15,
   "id": "e4070971",
   "metadata": {},
   "outputs": [
    {
     "data": {
      "text/plain": [
       "Text(0, 0.5, 'Open Rate')"
      ]
     },
     "execution_count": 15,
     "metadata": {},
     "output_type": "execute_result"
    },
    {
     "data": {
      "image/png": "[encoded data removed]",
      "text/plain": [
       "<Figure size 864x432 with 1 Axes>"
      ]
     },
     "metadata": {
      "needs_background": "light"
     },
     "output_type": "display_data"
    }
   ],
   "source": [
    "plt.figure(figsize=(12,6))\n",
    "dfLO21 = df.loc[(df['Last Opened'] >= '2021-01-01') & (df['Last Opened'] >= '2022-01-01')]\n",
    "dfLO21.groupby(dfLO21['Entry Date'].dt.month)[\"Open Rate\"].mean().plot.bar()\n",
    "plt.title('Open Rate X month')\n",
    "plt.xlabel('Last Opened')\n",
    "plt.ylabel('Open Rate')"
   ]
  },
  {
   "cell_type": "code",
   "execution_count": 16,
   "id": "df8c04bf",
   "metadata": {},
   "outputs": [
    {
     "data": {
      "text/plain": [
       "Text(0, 0.5, 'Open Rate')"
      ]
     },
     "execution_count": 16,
     "metadata": {},
     "output_type": "execute_result"
    },
    {
     "data": {
      "image/png": "[encoded data removed]",
      "text/plain": [
       "<Figure size 864x432 with 1 Axes>"
      ]
     },
     "metadata": {
      "needs_background": "light"
     },
     "output_type": "display_data"
    }
   ],
   "source": [
    "plt.figure(figsize=(12,6))\n",
    "dfLO22 = df.loc[(df['Last Opened'] >= '2022-01-01') & (df['Last Opened'] <= '2022-06-30')]\n",
    "dfLO22.groupby(dfLO22['Last Opened'].dt.month)[\"Open Rate\"].mean().plot.bar()\n",
    "plt.title('Open Rate X month')\n",
    "plt.xlabel('Last Opened')\n",
    "plt.ylabel('Open Rate')"
   ]
  },
  {
   "cell_type": "markdown",
   "id": "5245d824",
   "metadata": {},
   "source": [
    "- Maior taxa de abertura com base na ultima vez que os leitores viram as _news_ foi mais recente, em junho, o que indica um crescimento na retenção."
   ]
  },
  {
   "cell_type": "code",
   "execution_count": 17,
   "id": "21f5e590",
   "metadata": {},
   "outputs": [
    {
     "data": {
      "text/plain": [
       "True     0.523497\n",
       "False    0.476503\n",
       "Name: LastOpened_bf_Entry, dtype: float64"
      ]
     },
     "execution_count": 17,
     "metadata": {},
     "output_type": "execute_result"
    }
   ],
   "source": [
    "#Casos em que o leitor abriu pela última vez antes da data de entrada\n",
    "df['LastOpened_bf_Entry'] = df['Last Opened'] < df['Entry Date']\n",
    "df['LastOpened_bf_Entry'].value_counts(normalize=True)"
   ]
  },
  {
   "cell_type": "markdown",
   "id": "c680b6f6",
   "metadata": {},
   "source": [
    "- De acordo com os dados acima, aproximadamente 52% dos leitores viram as notícias antes de se inscrever, e não chegaram a ver depois que as _news_ começaram a chegar diariamente. "
   ]
  },
  {
   "cell_type": "code",
   "execution_count": 18,
   "id": "ab8d5886",
   "metadata": {},
   "outputs": [],
   "source": [
    "# pd.set_option('mode.chained_assignment', None)\n",
    "# df_dias = df[df['LastOpened_bf_Entry']==False]\n",
    "# df_dias['qte_dias'] = df_dias['Last Opened'] - df_dias['Entry Date']\n",
    "# df_dias"
   ]
  },
  {
   "cell_type": "code",
   "execution_count": 19,
   "id": "785cebfc",
   "metadata": {},
   "outputs": [
    {
     "data": {
      "text/plain": [
       "(52, 9)"
      ]
     },
     "execution_count": 19,
     "metadata": {},
     "output_type": "execute_result"
    }
   ],
   "source": [
    "df[(df['Last Opened'] >='2022-06-01') & (df['Last Opened'] <= '2022-06-30')].shape"
   ]
  },
  {
   "cell_type": "markdown",
   "id": "731b978f",
   "metadata": {},
   "source": [
    "- Dos 1000 leitores, somente 52 abriram as noticias no mês de junho, somente 5,20% do total de possíveis leitores."
   ]
  },
  {
   "cell_type": "code",
   "execution_count": 20,
   "id": "78968e18",
   "metadata": {},
   "outputs": [
    {
     "data": {
      "text/plain": [
       "(22, 9)"
      ]
     },
     "execution_count": 20,
     "metadata": {},
     "output_type": "execute_result"
    }
   ],
   "source": [
    "df[(df['Last Opened'] >='2022-06-01') & (df['Last Opened'] <= '2022-06-30') & (df['Entry Date'] <= '2022-01-01')].shape"
   ]
  },
  {
   "cell_type": "markdown",
   "id": "b99b5ab5",
   "metadata": {},
   "source": [
    "- Dos 52 leitores que abriram em junho, 22 se inscreveram em 2021, o que mostra uma taxa de retenção de menos de 43% no período de 6 meses."
   ]
  },
  {
   "cell_type": "code",
   "execution_count": 21,
   "id": "ad2a160b",
   "metadata": {},
   "outputs": [
    {
     "data": {
      "text/plain": [
       "Text(0, 0.5, 'Open Rate')"
      ]
     },
     "execution_count": 21,
     "metadata": {},
     "output_type": "execute_result"
    },
    {
     "data": {
      "image/png": "[encoded data removed]",
      "text/plain": [
       "<Figure size 864x432 with 1 Axes>"
      ]
     },
     "metadata": {
      "needs_background": "light"
     },
     "output_type": "display_data"
    }
   ],
   "source": [
    "#Abriram em junho, porém se inscreveram em 2021\n",
    "plt.figure(figsize=(12,6))\n",
    "dfLOjun = df.loc[(df['Last Opened'] >= '2022-06-01') & (df['Last Opened'] <= '2022-06-30') & (df['Entry Date'] <= '2022-01-01')]\n",
    "dfLOjun.groupby(dfLOjun['Entry Date'].dt.month)[\"Open Rate\"].mean().plot.bar()\n",
    "plt.title('Entry Date x Open Rate')\n",
    "plt.xlabel('Entry Date')\n",
    "plt.ylabel('Open Rate')"
   ]
  },
  {
   "cell_type": "markdown",
   "id": "56e0a0c6",
   "metadata": {},
   "source": [
    "- Observando os dados, encontramos leitores com a entrada em julho de 2021 e que abriram as _news_ em junho de 2022 consequentemente com uma taxa alta de abertura\n",
    "- Alguns meses que também se destacam de lá pra cá são maio, setembro e novembro\n",
    "- Também percebe-se que muitos leitores se inscreveram, passaram muito tempo inativos, e recentemente voltaram a abrir as _news_"
   ]
  },
  {
   "cell_type": "code",
   "execution_count": 22,
   "id": "b90581ef",
   "metadata": {},
   "outputs": [
    {
     "data": {
      "text/plain": [
       "Facebook      166\n",
       "Referral      158\n",
       "GoogleAds     155\n",
       "Influencer    153\n",
       "Organic       152\n",
       "Insta         131\n",
       "Name: Entry Channel, dtype: int64"
      ]
     },
     "execution_count": 22,
     "metadata": {},
     "output_type": "execute_result"
    }
   ],
   "source": [
    "df['Entry Channel'].value_counts()"
   ]
  },
  {
   "cell_type": "code",
   "execution_count": 23,
   "id": "c5b45694",
   "metadata": {
    "scrolled": false
   },
   "outputs": [
    {
     "data": {
      "application/vnd.plotly.v1+json": {
       "config": {
        "plotlyServerURL": "https://plot.ly"
       },
       "data": [
        {
         "domain": {
          "x": [
           0,
           1
          ],
          "y": [
           0,
           1
          ]
         },
         "hovertemplate": "label=%{label}<br>value=%{value}<extra></extra>",
         "labels": [
          "Facebook",
          "Referral",
          "GoogleAds",
          "Influencer",
          "Organic",
          "Insta"
         ],
         "legendgroup": "",
         "name": "",
         "showlegend": true,
         "type": "pie",
         "values": [
          166,
          158,
          155,
          153,
          152,
          131
         ]
        }
       ],
       "layout": {
        "legend": {
         "tracegroupgap": 0
        },
        "template": {
         "data": {
          "bar": [
           {
            "error_x": {
             "color": "#2a3f5f"
            },
            "error_y": {
             "color": "#2a3f5f"
            },
            "marker": {
             "line": {
              "color": "#E5ECF6",
              "width": 0.5
             },
             "pattern": {
              "fillmode": "overlay",
              "size": 10,
              "solidity": 0.2
             }
            },
            "type": "bar"
           }
          ],
          "barpolar": [
           {
            "marker": {
             "line": {
              "color": "#E5ECF6",
              "width": 0.5
             },
             "pattern": {
              "fillmode": "overlay",
              "size": 10,
              "solidity": 0.2
             }
            },
            "type": "barpolar"
           }
          ],
          "carpet": [
           {
            "aaxis": {
             "endlinecolor": "#2a3f5f",
             "gridcolor": "white",
             "linecolor": "white",
             "minorgridcolor": "white",
             "startlinecolor": "#2a3f5f"
            },
            "baxis": {
             "endlinecolor": "#2a3f5f",
             "gridcolor": "white",
             "linecolor": "white",
             "minorgridcolor": "white",
             "startlinecolor": "#2a3f5f"
            },
            "type": "carpet"
           }
          ],
          "choropleth": [
           {
            "colorbar": {
             "outlinewidth": 0,
             "ticks": ""
            },
            "type": "choropleth"
           }
          ],
          "contour": [
           {
            "colorbar": {
             "outlinewidth": 0,
             "ticks": ""
            },
            "colorscale": [
             [
              0,
              "#0d0887"
             ],
             [
              0.1111111111111111,
              "#46039f"
             ],
             [
              0.2222222222222222,
              "#7201a8"
             ],
             [
              0.3333333333333333,
              "#9c179e"
             ],
             [
              0.4444444444444444,
              "#bd3786"
             ],
             [
              0.5555555555555556,
              "#d8576b"
             ],
             [
              0.6666666666666666,
              "#ed7953"
             ],
             [
              0.7777777777777778,
              "#fb9f3a"
             ],
             [
              0.8888888888888888,
              "#fdca26"
             ],
             [
              1,
              "#f0f921"
             ]
            ],
            "type": "contour"
           }
          ],
          "contourcarpet": [
           {
            "colorbar": {
             "outlinewidth": 0,
             "ticks": ""
            },
            "type": "contourcarpet"
           }
          ],
          "heatmap": [
           {
            "colorbar": {
             "outlinewidth": 0,
             "ticks": ""
            },
            "colorscale": [
             [
              0,
              "#0d0887"
             ],
             [
              0.1111111111111111,
              "#46039f"
             ],
             [
              0.2222222222222222,
              "#7201a8"
             ],
             [
              0.3333333333333333,
              "#9c179e"
             ],
             [
              0.4444444444444444,
              "#bd3786"
             ],
             [
              0.5555555555555556,
              "#d8576b"
             ],
             [
              0.6666666666666666,
              "#ed7953"
             ],
             [
              0.7777777777777778,
              "#fb9f3a"
             ],
             [
              0.8888888888888888,
              "#fdca26"
             ],
             [
              1,
              "#f0f921"
             ]
            ],
            "type": "heatmap"
           }
          ],
          "heatmapgl": [
           {
            "colorbar": {
             "outlinewidth": 0,
             "ticks": ""
            },
            "colorscale": [
             [
              0,
              "#0d0887"
             ],
             [
              0.1111111111111111,
              "#46039f"
             ],
             [
              0.2222222222222222,
              "#7201a8"
             ],
             [
              0.3333333333333333,
              "#9c179e"
             ],
             [
              0.4444444444444444,
              "#bd3786"
             ],
             [
              0.5555555555555556,
              "#d8576b"
             ],
             [
              0.6666666666666666,
              "#ed7953"
             ],
             [
              0.7777777777777778,
              "#fb9f3a"
             ],
             [
              0.8888888888888888,
              "#fdca26"
             ],
             [
              1,
              "#f0f921"
             ]
            ],
            "type": "heatmapgl"
           }
          ],
          "histogram": [
           {
            "marker": {
             "pattern": {
              "fillmode": "overlay",
              "size": 10,
              "solidity": 0.2
             }
            },
            "type": "histogram"
           }
          ],
          "histogram2d": [
           {
            "colorbar": {
             "outlinewidth": 0,
             "ticks": ""
            },
            "colorscale": [
             [
              0,
              "#0d0887"
             ],
             [
              0.1111111111111111,
              "#46039f"
             ],
             [
              0.2222222222222222,
              "#7201a8"
             ],
             [
              0.3333333333333333,
              "#9c179e"
             ],
             [
              0.4444444444444444,
              "#bd3786"
             ],
             [
              0.5555555555555556,
              "#d8576b"
             ],
             [
              0.6666666666666666,
              "#ed7953"
             ],
             [
              0.7777777777777778,
              "#fb9f3a"
             ],
             [
              0.8888888888888888,
              "#fdca26"
             ],
             [
              1,
              "#f0f921"
             ]
            ],
            "type": "histogram2d"
           }
          ],
          "histogram2dcontour": [
           {
            "colorbar": {
             "outlinewidth": 0,
             "ticks": ""
            },
            "colorscale": [
             [
              0,
              "#0d0887"
             ],
             [
              0.1111111111111111,
              "#46039f"
             ],
             [
              0.2222222222222222,
              "#7201a8"
             ],
             [
              0.3333333333333333,
              "#9c179e"
             ],
             [
              0.4444444444444444,
              "#bd3786"
             ],
             [
              0.5555555555555556,
              "#d8576b"
             ],
             [
              0.6666666666666666,
              "#ed7953"
             ],
             [
              0.7777777777777778,
              "#fb9f3a"
             ],
             [
              0.8888888888888888,
              "#fdca26"
             ],
             [
              1,
              "#f0f921"
             ]
            ],
            "type": "histogram2dcontour"
           }
          ],
          "mesh3d": [
           {
            "colorbar": {
             "outlinewidth": 0,
             "ticks": ""
            },
            "type": "mesh3d"
           }
          ],
          "parcoords": [
           {
            "line": {
             "colorbar": {
              "outlinewidth": 0,
              "ticks": ""
             }
            },
            "type": "parcoords"
           }
          ],
          "pie": [
           {
            "automargin": true,
            "type": "pie"
           }
          ],
          "scatter": [
           {
            "marker": {
             "colorbar": {
              "outlinewidth": 0,
              "ticks": ""
             }
            },
            "type": "scatter"
           }
          ],
          "scatter3d": [
           {
            "line": {
             "colorbar": {
              "outlinewidth": 0,
              "ticks": ""
             }
            },
            "marker": {
             "colorbar": {
              "outlinewidth": 0,
              "ticks": ""
             }
            },
            "type": "scatter3d"
           }
          ],
          "scattercarpet": [
           {
            "marker": {
             "colorbar": {
              "outlinewidth": 0,
              "ticks": ""
             }
            },
            "type": "scattercarpet"
           }
          ],
          "scattergeo": [
           {
            "marker": {
             "colorbar": {
              "outlinewidth": 0,
              "ticks": ""
             }
            },
            "type": "scattergeo"
           }
          ],
          "scattergl": [
           {
            "marker": {
             "colorbar": {
              "outlinewidth": 0,
              "ticks": ""
             }
            },
            "type": "scattergl"
           }
          ],
          "scattermapbox": [
           {
            "marker": {
             "colorbar": {
              "outlinewidth": 0,
              "ticks": ""
             }
            },
            "type": "scattermapbox"
           }
          ],
          "scatterpolar": [
           {
            "marker": {
             "colorbar": {
              "outlinewidth": 0,
              "ticks": ""
             }
            },
            "type": "scatterpolar"
           }
          ],
          "scatterpolargl": [
           {
            "marker": {
             "colorbar": {
              "outlinewidth": 0,
              "ticks": ""
             }
            },
            "type": "scatterpolargl"
           }
          ],
          "scatterternary": [
           {
            "marker": {
             "colorbar": {
              "outlinewidth": 0,
              "ticks": ""
             }
            },
            "type": "scatterternary"
           }
          ],
          "surface": [
           {
            "colorbar": {
             "outlinewidth": 0,
             "ticks": ""
            },
            "colorscale": [
             [
              0,
              "#0d0887"
             ],
             [
              0.1111111111111111,
              "#46039f"
             ],
             [
              0.2222222222222222,
              "#7201a8"
             ],
             [
              0.3333333333333333,
              "#9c179e"
             ],
             [
              0.4444444444444444,
              "#bd3786"
             ],
             [
              0.5555555555555556,
              "#d8576b"
             ],
             [
              0.6666666666666666,
              "#ed7953"
             ],
             [
              0.7777777777777778,
              "#fb9f3a"
             ],
             [
              0.8888888888888888,
              "#fdca26"
             ],
             [
              1,
              "#f0f921"
             ]
            ],
            "type": "surface"
           }
          ],
          "table": [
           {
            "cells": {
             "fill": {
              "color": "#EBF0F8"
             },
             "line": {
              "color": "white"
             }
            },
            "header": {
             "fill": {
              "color": "#C8D4E3"
             },
             "line": {
              "color": "white"
             }
            },
            "type": "table"
           }
          ]
         },
         "layout": {
          "annotationdefaults": {
           "arrowcolor": "#2a3f5f",
           "arrowhead": 0,
           "arrowwidth": 1
          },
          "autotypenumbers": "strict",
          "coloraxis": {
           "colorbar": {
            "outlinewidth": 0,
            "ticks": ""
           }
          },
          "colorscale": {
           "diverging": [
            [
             0,
             "#8e0152"
            ],
            [
             0.1,
             "#c51b7d"
            ],
            [
             0.2,
             "#de77ae"
            ],
            [
             0.3,
             "#f1b6da"
            ],
            [
             0.4,
             "#fde0ef"
            ],
            [
             0.5,
             "#f7f7f7"
            ],
            [
             0.6,
             "#e6f5d0"
            ],
            [
             0.7,
             "#b8e186"
            ],
            [
             0.8,
             "#7fbc41"
            ],
            [
             0.9,
             "#4d9221"
            ],
            [
             1,
             "#276419"
            ]
           ],
           "sequential": [
            [
             0,
             "#0d0887"
            ],
            [
             0.1111111111111111,
             "#46039f"
            ],
            [
             0.2222222222222222,
             "#7201a8"
            ],
            [
             0.3333333333333333,
             "#9c179e"
            ],
            [
             0.4444444444444444,
             "#bd3786"
            ],
            [
             0.5555555555555556,
             "#d8576b"
            ],
            [
             0.6666666666666666,
             "#ed7953"
            ],
            [
             0.7777777777777778,
             "#fb9f3a"
            ],
            [
             0.8888888888888888,
             "#fdca26"
            ],
            [
             1,
             "#f0f921"
            ]
           ],
           "sequentialminus": [
            [
             0,
             "#0d0887"
            ],
            [
             0.1111111111111111,
             "#46039f"
            ],
            [
             0.2222222222222222,
             "#7201a8"
            ],
            [
             0.3333333333333333,
             "#9c179e"
            ],
            [
             0.4444444444444444,
             "#bd3786"
            ],
            [
             0.5555555555555556,
             "#d8576b"
            ],
            [
             0.6666666666666666,
             "#ed7953"
            ],
            [
             0.7777777777777778,
             "#fb9f3a"
            ],
            [
             0.8888888888888888,
             "#fdca26"
            ],
            [
             1,
             "#f0f921"
            ]
           ]
          },
          "colorway": [
           "#636efa",
           "#EF553B",
           "#00cc96",
           "#ab63fa",
           "#FFA15A",
           "#19d3f3",
           "#FF6692",
           "#B6E880",
           "#FF97FF",
           "#FECB52"
          ],
          "font": {
           "color": "#2a3f5f"
          },
          "geo": {
           "bgcolor": "white",
           "lakecolor": "white",
           "landcolor": "#E5ECF6",
           "showlakes": true,
           "showland": true,
           "subunitcolor": "white"
          },
          "hoverlabel": {
           "align": "left"
          },
          "hovermode": "closest",
          "mapbox": {
           "style": "light"
          },
          "paper_bgcolor": "white",
          "plot_bgcolor": "#E5ECF6",
          "polar": {
           "angularaxis": {
            "gridcolor": "white",
            "linecolor": "white",
            "ticks": ""
           },
           "bgcolor": "#E5ECF6",
           "radialaxis": {
            "gridcolor": "white",
            "linecolor": "white",
            "ticks": ""
           }
          },
          "scene": {
           "xaxis": {
            "backgroundcolor": "#E5ECF6",
            "gridcolor": "white",
            "gridwidth": 2,
            "linecolor": "white",
            "showbackground": true,
            "ticks": "",
            "zerolinecolor": "white"
           },
           "yaxis": {
            "backgroundcolor": "#E5ECF6",
            "gridcolor": "white",
            "gridwidth": 2,
            "linecolor": "white",
            "showbackground": true,
            "ticks": "",
            "zerolinecolor": "white"
           },
           "zaxis": {
            "backgroundcolor": "#E5ECF6",
            "gridcolor": "white",
            "gridwidth": 2,
            "linecolor": "white",
            "showbackground": true,
            "ticks": "",
            "zerolinecolor": "white"
           }
          },
          "shapedefaults": {
           "line": {
            "color": "#2a3f5f"
           }
          },
          "ternary": {
           "aaxis": {
            "gridcolor": "white",
            "linecolor": "white",
            "ticks": ""
           },
           "baxis": {
            "gridcolor": "white",
            "linecolor": "white",
            "ticks": ""
           },
           "bgcolor": "#E5ECF6",
           "caxis": {
            "gridcolor": "white",
            "linecolor": "white",
            "ticks": ""
           }
          },
          "title": {
           "x": 0.05
          },
          "xaxis": {
           "automargin": true,
           "gridcolor": "white",
           "linecolor": "white",
           "ticks": "",
           "title": {
            "standoff": 15
           },
           "zerolinecolor": "white",
           "zerolinewidth": 2
          },
          "yaxis": {
           "automargin": true,
           "gridcolor": "white",
           "linecolor": "white",
           "ticks": "",
           "title": {
            "standoff": 15
           },
           "zerolinecolor": "white",
           "zerolinewidth": 2
          }
         }
        },
        "title": {
         "text": "Canais de entrada"
        }
       }
      }
     },
     "metadata": {},
     "output_type": "display_data"
    },
    {
     "data": {
      "text/plain": [
       "<Figure size 360x360 with 0 Axes>"
      ]
     },
     "metadata": {},
     "output_type": "display_data"
    }
   ],
   "source": [
    "plt.figure(figsize=(5,5))\n",
    "label = df['Entry Channel'].value_counts().index\n",
    "label_count = df['Entry Channel'].value_counts().values\n",
    "fig = px.pie(df, values=label_count, names=label, title='Canais de entrada')\n",
    "fig.show()"
   ]
  },
  {
   "cell_type": "code",
   "execution_count": 24,
   "id": "272cf8d1",
   "metadata": {},
   "outputs": [
    {
     "data": {
      "text/plain": [
       "Text(0, 0.5, 'Leitores')"
      ]
     },
     "execution_count": 24,
     "metadata": {},
     "output_type": "execute_result"
    },
    {
     "data": {
      "image/png": "[encoded data removed]",
      "text/plain": [
       "<Figure size 432x288 with 1 Axes>"
      ]
     },
     "metadata": {
      "needs_background": "light"
     },
     "output_type": "display_data"
    }
   ],
   "source": [
    "sns.countplot(x=df['Entry Channel'], data=df)\n",
    "plt.title('Analisando canais de aquisição')\n",
    "plt.xlabel('Canais de entrada')\n",
    "plt.ylabel('Leitores')"
   ]
  },
  {
   "cell_type": "markdown",
   "id": "ce0f8aa7",
   "metadata": {},
   "source": [
    "Baseado nos gráficos acima, o método de divulgação com mais resultados é o Facebook, seguido pelo método de referências, o que indica que os sorteios estão tendo resultados diretos na frequência do público com o Dênius."
   ]
  },
  {
   "cell_type": "code",
   "execution_count": null,
   "id": "cdbac26a",
   "metadata": {},
   "outputs": [],
   "source": []
  },
  {
   "cell_type": "code",
   "execution_count": 25,
   "id": "a15b50f3",
   "metadata": {
    "scrolled": true
   },
   "outputs": [
    {
     "data": {
      "text/plain": [
       "<AxesSubplot:xlabel='Newsletter', ylabel='Open Rate'>"
      ]
     },
     "execution_count": 25,
     "metadata": {},
     "output_type": "execute_result"
    },
    {
     "data": {
      "image/png": "[encoded data removed]",
      "text/plain": [
       "<Figure size 432x288 with 1 Axes>"
      ]
     },
     "metadata": {
      "needs_background": "light"
     },
     "output_type": "display_data"
    }
   ],
   "source": [
    "sns.barplot(x=df['Newsletter'], y=df['Open Rate'], data=df)"
   ]
  },
  {
   "cell_type": "markdown",
   "id": "6a112f7f",
   "metadata": {},
   "source": [
    "De acordo com o gráfico acima a taxa de leitura do \"the news\" é levemente maior entre os leitores, seguido pelo \"the biziness\", \"the champs\" e finalmente o \"the stories\", chegando em media a 50%"
   ]
  },
  {
   "cell_type": "code",
   "execution_count": 26,
   "id": "fe2924f1",
   "metadata": {},
   "outputs": [
    {
     "data": {
      "text/plain": [
       "<AxesSubplot:xlabel='Newsletter', ylabel='Open Rate'>"
      ]
     },
     "execution_count": 26,
     "metadata": {},
     "output_type": "execute_result"
    },
    {
     "data": {
      "image/png": "[encoded data removed]",
      "text/plain": [
       "<Figure size 432x288 with 1 Axes>"
      ]
     },
     "metadata": {
      "needs_background": "light"
     },
     "output_type": "display_data"
    }
   ],
   "source": [
    "df1 = df[df['Open Rate'] > 0.7]\n",
    "sns.barplot(x=df1['Newsletter'], y=df1['Open Rate'], data=df1)"
   ]
  },
  {
   "cell_type": "markdown",
   "id": "e0ee1b67",
   "metadata": {},
   "source": [
    "Entre as taxas de abertura com maior frequência (mais que 70%), os canais de Newsletter estão bem equilibrados."
   ]
  },
  {
   "cell_type": "code",
   "execution_count": null,
   "id": "59f58542",
   "metadata": {},
   "outputs": [],
   "source": []
  },
  {
   "cell_type": "markdown",
   "id": "d8624459",
   "metadata": {},
   "source": [
    "Testezin"
   ]
  },
  {
   "cell_type": "markdown",
   "id": "afd3be15",
   "metadata": {},
   "source": []
  }
 ],
 "metadata": {
  "kernelspec": {
   "display_name": "Python 3 (ipykernel)",
   "language": "python",
   "name": "python3"
  },
  "language_info": {
   "codemirror_mode": {
    "name": "ipython",
    "version": 3
   },
   "file_extension": ".py",
   "mimetype": "text/x-python",
   "name": "python",
   "nbconvert_exporter": "python",
   "pygments_lexer": "ipython3",
   "version": "3.9.12"
  },
  "vscode": {
   "interpreter": {
    "hash": "d2af68a4b51633f13995ebfae92a57b161ed6e58c9d8595f65fa30edeb049295"
   }
  }
 },
 "nbformat": 4,
 "nbformat_minor": 5
}
